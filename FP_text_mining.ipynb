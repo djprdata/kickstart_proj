{
 "cells": [
  {
   "cell_type": "code",
   "execution_count": 1,
   "metadata": {},
   "outputs": [
    {
     "data": {
      "text/html": [
       "<div>\n",
       "<style>\n",
       "    .dataframe thead tr:only-child th {\n",
       "        text-align: right;\n",
       "    }\n",
       "\n",
       "    .dataframe thead th {\n",
       "        text-align: left;\n",
       "    }\n",
       "\n",
       "    .dataframe tbody tr th {\n",
       "        vertical-align: top;\n",
       "    }\n",
       "</style>\n",
       "<table border=\"1\" class=\"dataframe\">\n",
       "  <thead>\n",
       "    <tr style=\"text-align: right;\">\n",
       "      <th></th>\n",
       "      <th></th>\n",
       "      <th>rate</th>\n",
       "    </tr>\n",
       "    <tr>\n",
       "      <th>currency</th>\n",
       "      <th>rtdate</th>\n",
       "      <th></th>\n",
       "    </tr>\n",
       "  </thead>\n",
       "  <tbody>\n",
       "    <tr>\n",
       "      <th rowspan=\"5\" valign=\"top\">AUD</th>\n",
       "      <th>2010-01-01</th>\n",
       "      <td>0.897274</td>\n",
       "    </tr>\n",
       "    <tr>\n",
       "      <th>2010-02-01</th>\n",
       "      <td>0.896608</td>\n",
       "    </tr>\n",
       "    <tr>\n",
       "      <th>2010-03-01</th>\n",
       "      <td>0.895943</td>\n",
       "    </tr>\n",
       "    <tr>\n",
       "      <th>2010-04-01</th>\n",
       "      <td>0.895277</td>\n",
       "    </tr>\n",
       "    <tr>\n",
       "      <th>2010-05-01</th>\n",
       "      <td>0.894612</td>\n",
       "    </tr>\n",
       "  </tbody>\n",
       "</table>\n",
       "</div>"
      ],
      "text/plain": [
       "                         rate\n",
       "currency rtdate              \n",
       "AUD      2010-01-01  0.897274\n",
       "         2010-02-01  0.896608\n",
       "         2010-03-01  0.895943\n",
       "         2010-04-01  0.895277\n",
       "         2010-05-01  0.894612"
      ]
     },
     "execution_count": 1,
     "metadata": {},
     "output_type": "execute_result"
    }
   ],
   "source": [
    "import pandas as pd\n",
    "import numpy as np\n",
    "import datetime as dt\n",
    "\n",
    "'''\n",
    "Instructions: youll need to put the exchange rate table \"CurrencyTable\" into the same folder as your\n",
    "existing kickstarter file. The code that transforms the data takes forever finish - at least 3 mins.\n",
    "'''\n",
    "\n",
    "#change the path that the read_csv is looking at\n",
    "df = pd.read_csv('CurrencyTable.csv',index_col=0)\n",
    "df.index = pd.to_datetime(df.index)\n",
    "new_index = pd.date_range(df.index.min(),df.index.max(),freq='MS')\n",
    "df=df.reindex(new_index)\n",
    "df=df.interpolate().unstack()\n",
    "rate = pd.DataFrame(df)\n",
    "rate.columns = ['rate']\n",
    "rate.rename_axis(['currency','rtdate']).head()\n",
    "#rate = df.interpolate().unstack().rename_axis(['currency','rtdate']).reset_index()"
   ]
  },
  {
   "cell_type": "code",
   "execution_count": 2,
   "metadata": {
    "collapsed": true
   },
   "outputs": [],
   "source": [
    "#Import the data set into dataframe\n",
    "#Change the path that read_csv is looking at\n",
    "tdf = pd.read_csv('ksdata.csv', index_col=0)"
   ]
  },
  {
   "cell_type": "code",
   "execution_count": 3,
   "metadata": {
    "collapsed": true
   },
   "outputs": [],
   "source": [
    "'''\n",
    "Converting the dataset\n",
    "'''\n",
    "\n",
    "#Convert columns to datetime\n",
    "tdf.launched = pd.to_datetime(tdf.launched)\n",
    "tdf.deadline = pd.to_datetime(tdf.deadline)\n",
    "\n",
    "#Drop the columns where the launch date is 1970 - 5 itmes total\n",
    "tdf = tdf.drop(tdf[tdf.launched < '2000-01-01'].index)\n",
    "\n",
    "#create a column that gives you the duration of the campaign in days\n",
    "tdf['date_diff'] = tdf.deadline - tdf.launched\n",
    "tdf.date_diff = tdf.date_diff.apply(lambda x: x.days)\n",
    "\n",
    "#change the country code for N,0\" error to first two letters of currency\n",
    "tdf['country'] = np.where(tdf['country'] == 'N,0\"',tdf.currency.str[:2],tdf['country'])\n",
    "\n",
    "#create new column\n",
    "tdf['successful'] = tdf.state\n",
    "\n",
    "#change funding_status to either 'successful' or 'failed' based on pledged > goal\n",
    "tdf['successful'] = np.where(tdf['usd_pledged_real'] >= tdf['usd_goal_real'], 1 , 0)\n",
    "\n",
    "#added a new column to dataframe that matches other dataframe for join\n",
    "tdf['rtdate'] = tdf['launched'].values.astype('datetime64[M]')\n",
    "\n",
    "#drop usd_goal_real and usd_pledged_real\n",
    "tdf.drop(['usd_goal_real','usd_pledged_real','usd pledged'], axis=1, inplace=True)\n"
   ]
  },
  {
   "cell_type": "code",
   "execution_count": 4,
   "metadata": {
    "collapsed": true
   },
   "outputs": [],
   "source": [
    "result = tdf.join(rate, on=['currency', 'rtdate'], how='left')"
   ]
  },
  {
   "cell_type": "code",
   "execution_count": 5,
   "metadata": {
    "collapsed": true
   },
   "outputs": [],
   "source": [
    "result['goal_usd'] = result.goal * result.rate\n",
    "result['pledged_usd'] = result.pledged * result.rate"
   ]
  },
  {
   "cell_type": "code",
   "execution_count": 183,
   "metadata": {},
   "outputs": [
    {
     "data": {
      "text/html": [
       "<div>\n",
       "<style>\n",
       "    .dataframe thead tr:only-child th {\n",
       "        text-align: right;\n",
       "    }\n",
       "\n",
       "    .dataframe thead th {\n",
       "        text-align: left;\n",
       "    }\n",
       "\n",
       "    .dataframe tbody tr th {\n",
       "        vertical-align: top;\n",
       "    }\n",
       "</style>\n",
       "<table border=\"1\" class=\"dataframe\">\n",
       "  <thead>\n",
       "    <tr style=\"text-align: right;\">\n",
       "      <th></th>\n",
       "      <th>name</th>\n",
       "      <th>category</th>\n",
       "      <th>main_category</th>\n",
       "      <th>currency</th>\n",
       "      <th>deadline</th>\n",
       "      <th>goal</th>\n",
       "      <th>launched</th>\n",
       "      <th>pledged</th>\n",
       "      <th>state</th>\n",
       "      <th>backers</th>\n",
       "      <th>...</th>\n",
       "      <th>date_diff</th>\n",
       "      <th>successful</th>\n",
       "      <th>rtdate</th>\n",
       "      <th>rate</th>\n",
       "      <th>goal_usd</th>\n",
       "      <th>pledged_usd</th>\n",
       "      <th>name_len</th>\n",
       "      <th>name_low</th>\n",
       "      <th>name_words</th>\n",
       "      <th>number_words</th>\n",
       "    </tr>\n",
       "    <tr>\n",
       "      <th>ID</th>\n",
       "      <th></th>\n",
       "      <th></th>\n",
       "      <th></th>\n",
       "      <th></th>\n",
       "      <th></th>\n",
       "      <th></th>\n",
       "      <th></th>\n",
       "      <th></th>\n",
       "      <th></th>\n",
       "      <th></th>\n",
       "      <th></th>\n",
       "      <th></th>\n",
       "      <th></th>\n",
       "      <th></th>\n",
       "      <th></th>\n",
       "      <th></th>\n",
       "      <th></th>\n",
       "      <th></th>\n",
       "      <th></th>\n",
       "      <th></th>\n",
       "      <th></th>\n",
       "    </tr>\n",
       "  </thead>\n",
       "  <tbody>\n",
       "    <tr>\n",
       "      <th>1000002330</th>\n",
       "      <td>The Songs of Adelaide &amp; Abullah</td>\n",
       "      <td>Poetry</td>\n",
       "      <td>Publishing</td>\n",
       "      <td>GBP</td>\n",
       "      <td>2015-10-09</td>\n",
       "      <td>1000.0</td>\n",
       "      <td>2015-08-11 12:12:28</td>\n",
       "      <td>0.0</td>\n",
       "      <td>failed</td>\n",
       "      <td>0</td>\n",
       "      <td>...</td>\n",
       "      <td>58</td>\n",
       "      <td>0</td>\n",
       "      <td>2015-08-01</td>\n",
       "      <td>1.527486</td>\n",
       "      <td>1527.485876</td>\n",
       "      <td>0.0</td>\n",
       "      <td>31</td>\n",
       "      <td>the songs of adelaide &amp; abullah</td>\n",
       "      <td>[the, songs, of, adelaide, &amp;, abullah]</td>\n",
       "      <td>6</td>\n",
       "    </tr>\n",
       "    <tr>\n",
       "      <th>1000003930</th>\n",
       "      <td>Greeting From Earth: ZGAC Arts Capsule For ET</td>\n",
       "      <td>Narrative Film</td>\n",
       "      <td>Film &amp; Video</td>\n",
       "      <td>USD</td>\n",
       "      <td>2017-11-01</td>\n",
       "      <td>30000.0</td>\n",
       "      <td>2017-09-02 04:43:57</td>\n",
       "      <td>2421.0</td>\n",
       "      <td>failed</td>\n",
       "      <td>15</td>\n",
       "      <td>...</td>\n",
       "      <td>59</td>\n",
       "      <td>0</td>\n",
       "      <td>2017-09-01</td>\n",
       "      <td>1.000000</td>\n",
       "      <td>30000.000000</td>\n",
       "      <td>2421.0</td>\n",
       "      <td>45</td>\n",
       "      <td>greeting from earth: zgac arts capsule for et</td>\n",
       "      <td>[greeting, from, earth:, zgac, arts, capsule, for, et]</td>\n",
       "      <td>8</td>\n",
       "    </tr>\n",
       "    <tr>\n",
       "      <th>1000004038</th>\n",
       "      <td>Where is Hank?</td>\n",
       "      <td>Narrative Film</td>\n",
       "      <td>Film &amp; Video</td>\n",
       "      <td>USD</td>\n",
       "      <td>2013-02-26</td>\n",
       "      <td>45000.0</td>\n",
       "      <td>2013-01-12 00:20:50</td>\n",
       "      <td>220.0</td>\n",
       "      <td>failed</td>\n",
       "      <td>3</td>\n",
       "      <td>...</td>\n",
       "      <td>44</td>\n",
       "      <td>0</td>\n",
       "      <td>2013-01-01</td>\n",
       "      <td>1.000000</td>\n",
       "      <td>45000.000000</td>\n",
       "      <td>220.0</td>\n",
       "      <td>14</td>\n",
       "      <td>where is hank?</td>\n",
       "      <td>[where, is, hank?]</td>\n",
       "      <td>3</td>\n",
       "    </tr>\n",
       "    <tr>\n",
       "      <th>1000007540</th>\n",
       "      <td>ToshiCapital Rekordz Needs Help to Complete Album</td>\n",
       "      <td>Music</td>\n",
       "      <td>Music</td>\n",
       "      <td>USD</td>\n",
       "      <td>2012-04-16</td>\n",
       "      <td>5000.0</td>\n",
       "      <td>2012-03-17 03:24:11</td>\n",
       "      <td>1.0</td>\n",
       "      <td>failed</td>\n",
       "      <td>1</td>\n",
       "      <td>...</td>\n",
       "      <td>29</td>\n",
       "      <td>0</td>\n",
       "      <td>2012-03-01</td>\n",
       "      <td>1.000000</td>\n",
       "      <td>5000.000000</td>\n",
       "      <td>1.0</td>\n",
       "      <td>49</td>\n",
       "      <td>toshicapital rekordz needs help to complete album</td>\n",
       "      <td>[toshicapital, rekordz, needs, help, to, complete, album]</td>\n",
       "      <td>7</td>\n",
       "    </tr>\n",
       "    <tr>\n",
       "      <th>1000011046</th>\n",
       "      <td>Community Film Project: The Art of Neighborhood Filmmaking</td>\n",
       "      <td>Film &amp; Video</td>\n",
       "      <td>Film &amp; Video</td>\n",
       "      <td>USD</td>\n",
       "      <td>2015-08-29</td>\n",
       "      <td>19500.0</td>\n",
       "      <td>2015-07-04 08:35:03</td>\n",
       "      <td>1283.0</td>\n",
       "      <td>canceled</td>\n",
       "      <td>14</td>\n",
       "      <td>...</td>\n",
       "      <td>55</td>\n",
       "      <td>0</td>\n",
       "      <td>2015-07-01</td>\n",
       "      <td>1.000000</td>\n",
       "      <td>19500.000000</td>\n",
       "      <td>1283.0</td>\n",
       "      <td>58</td>\n",
       "      <td>community film project: the art of neighborhood filmmaking</td>\n",
       "      <td>[community, film, project:, the, art, of, neighborhood, filmmaking]</td>\n",
       "      <td>8</td>\n",
       "    </tr>\n",
       "  </tbody>\n",
       "</table>\n",
       "<p>5 rows × 21 columns</p>\n",
       "</div>"
      ],
      "text/plain": [
       "                                                                  name        category main_category currency   deadline     goal            launched  pledged     state  backers     ...      date_diff  successful     rtdate      rate      goal_usd  pledged_usd  name_len                                                    name_low                                                           name_words number_words\n",
       "ID                                                                                                                                                                                    ...                                                                                                                                                                                                                                   \n",
       "1000002330  The Songs of Adelaide & Abullah                             Poetry          Publishing    GBP     2015-10-09  1000.0  2015-08-11 12:12:28  0.0      failed    0           ...       58        0          2015-08-01  1.527486  1527.485876   0.0          31        the songs of adelaide & abullah                             [the, songs, of, adelaide, &, abullah]                               6          \n",
       "1000003930  Greeting From Earth: ZGAC Arts Capsule For ET               Narrative Film  Film & Video  USD     2017-11-01  30000.0 2017-09-02 04:43:57  2421.0   failed    15          ...       59        0          2017-09-01  1.000000  30000.000000  2421.0       45        greeting from earth: zgac arts capsule for et               [greeting, from, earth:, zgac, arts, capsule, for, et]               8          \n",
       "1000004038  Where is Hank?                                              Narrative Film  Film & Video  USD     2013-02-26  45000.0 2013-01-12 00:20:50  220.0    failed    3           ...       44        0          2013-01-01  1.000000  45000.000000  220.0        14        where is hank?                                              [where, is, hank?]                                                   3          \n",
       "1000007540  ToshiCapital Rekordz Needs Help to Complete Album           Music           Music         USD     2012-04-16  5000.0  2012-03-17 03:24:11  1.0      failed    1           ...       29        0          2012-03-01  1.000000  5000.000000   1.0          49        toshicapital rekordz needs help to complete album           [toshicapital, rekordz, needs, help, to, complete, album]            7          \n",
       "1000011046  Community Film Project: The Art of Neighborhood Filmmaking  Film & Video    Film & Video  USD     2015-08-29  19500.0 2015-07-04 08:35:03  1283.0   canceled  14          ...       55        0          2015-07-01  1.000000  19500.000000  1283.0       58        community film project: the art of neighborhood filmmaking  [community, film, project:, the, art, of, neighborhood, filmmaking]  8          \n",
       "\n",
       "[5 rows x 21 columns]"
      ]
     },
     "execution_count": 183,
     "metadata": {},
     "output_type": "execute_result"
    }
   ],
   "source": [
    "result.head()"
   ]
  },
  {
   "cell_type": "markdown",
   "metadata": {},
   "source": [
    "# Analysis\n",
    "1. Keywords"
   ]
  },
  {
   "cell_type": "code",
   "execution_count": 36,
   "metadata": {
    "collapsed": true
   },
   "outputs": [],
   "source": [
    "pd.set_option('display.max_colwidth', -1)"
   ]
  },
  {
   "cell_type": "code",
   "execution_count": 31,
   "metadata": {},
   "outputs": [],
   "source": [
    "index = range(len(result))\n",
    "values = result.values\n",
    "columns = result.columns\n",
    "df = pd.DataFrame(values, index=index, columns = columns)\n"
   ]
  },
  {
   "cell_type": "code",
   "execution_count": 32,
   "metadata": {
    "collapsed": true
   },
   "outputs": [],
   "source": [
    "dfname = df"
   ]
  },
  {
   "cell_type": "code",
   "execution_count": null,
   "metadata": {},
   "outputs": [],
   "source": []
  },
  {
   "cell_type": "code",
   "execution_count": 33,
   "metadata": {
    "collapsed": true
   },
   "outputs": [],
   "source": [
    "import re"
   ]
  },
  {
   "cell_type": "code",
   "execution_count": 40,
   "metadata": {
    "collapsed": true
   },
   "outputs": [],
   "source": [
    "dfname['name'] = dfname.name.astype(str)"
   ]
  },
  {
   "cell_type": "code",
   "execution_count": null,
   "metadata": {},
   "outputs": [],
   "source": []
  },
  {
   "cell_type": "code",
   "execution_count": 43,
   "metadata": {},
   "outputs": [],
   "source": [
    "# there are 23105  projects with (canceled) in the name\n",
    "pattern = '\\(canceled\\)'\n",
    "dfname['name'] = dfname.name.str.replace(pattern, '', n=1, case=False)"
   ]
  },
  {
   "cell_type": "code",
   "execution_count": null,
   "metadata": {},
   "outputs": [],
   "source": []
  },
  {
   "cell_type": "code",
   "execution_count": 44,
   "metadata": {
    "collapsed": true
   },
   "outputs": [],
   "source": [
    "# there are 1060  projects with (suspended) in the name\n",
    "pattern = '\\(suspended\\)'\n",
    "dfname['name'] = dfname.name.str.replace(pattern, '', n=1, case=False)"
   ]
  },
  {
   "cell_type": "code",
   "execution_count": 47,
   "metadata": {},
   "outputs": [],
   "source": [
    "pattern = '[^A-Za-z0-9!? ]'\n",
    "dfname['name'] = dfname.name.str.replace(pattern, '')"
   ]
  },
  {
   "cell_type": "code",
   "execution_count": 48,
   "metadata": {
    "collapsed": true
   },
   "outputs": [],
   "source": [
    "pattern = '\\(\\)'\n",
    "dfname['name'] = dfname.name.str.replace(pattern, '')"
   ]
  },
  {
   "cell_type": "code",
   "execution_count": null,
   "metadata": {},
   "outputs": [],
   "source": [
    "\n",
    "    "
   ]
  },
  {
   "cell_type": "code",
   "execution_count": null,
   "metadata": {},
   "outputs": [],
   "source": []
  },
  {
   "cell_type": "code",
   "execution_count": 67,
   "metadata": {
    "collapsed": true
   },
   "outputs": [],
   "source": [
    "pattern = '  '\n",
    "dfname['name'] = dfname.name.str.replace(pattern, ' ')\n",
    "dfname['name'] = dfname.name.str.replace(pattern, ' ')\n",
    "dfname['name'] = dfname.name.str.replace(pattern, ' ')\n",
    "dfname['name'] = dfname.name.str.replace(pattern, ' ')\n",
    "dfname['name'] = dfname.name.str.replace(pattern, ' ')"
   ]
  },
  {
   "cell_type": "code",
   "execution_count": 68,
   "metadata": {},
   "outputs": [
    {
     "data": {
      "text/plain": [
       "-378654"
      ]
     },
     "execution_count": 68,
     "metadata": {},
     "output_type": "execute_result"
    }
   ],
   "source": [
    "dfname.name.str.find(pattern).sum()"
   ]
  },
  {
   "cell_type": "code",
   "execution_count": 69,
   "metadata": {
    "collapsed": true
   },
   "outputs": [],
   "source": [
    "dfname['name_len'] = dfname.name.str.len()"
   ]
  },
  {
   "cell_type": "code",
   "execution_count": 70,
   "metadata": {
    "collapsed": true
   },
   "outputs": [],
   "source": [
    "dfname['name_low'] = dfname.name.str.lower()"
   ]
  },
  {
   "cell_type": "code",
   "execution_count": null,
   "metadata": {
    "collapsed": true
   },
   "outputs": [],
   "source": []
  },
  {
   "cell_type": "code",
   "execution_count": 72,
   "metadata": {
    "collapsed": true
   },
   "outputs": [],
   "source": [
    "dfname['name_words']  = dfname.name_low.str.strip().str.split('[\\s]')"
   ]
  },
  {
   "cell_type": "code",
   "execution_count": 73,
   "metadata": {
    "collapsed": true
   },
   "outputs": [],
   "source": [
    "dfname['number_words']  =  dfname.name_words.str.len()"
   ]
  },
  {
   "cell_type": "code",
   "execution_count": null,
   "metadata": {},
   "outputs": [],
   "source": []
  },
  {
   "cell_type": "code",
   "execution_count": 99,
   "metadata": {
    "collapsed": true
   },
   "outputs": [],
   "source": [
    "dfname = dfname.drop(dfname[dfname.name == ' '].index, axis=0) "
   ]
  },
  {
   "cell_type": "code",
   "execution_count": null,
   "metadata": {
    "collapsed": true
   },
   "outputs": [],
   "source": []
  },
  {
   "cell_type": "code",
   "execution_count": 143,
   "metadata": {
    "collapsed": true
   },
   "outputs": [],
   "source": [
    "# http://sigdelta.com/blog/text-analysis-in-pandas/"
   ]
  },
  {
   "cell_type": "code",
   "execution_count": 101,
   "metadata": {},
   "outputs": [
    {
     "data": {
      "text/plain": [
       "successful\n",
       "0    5.173703\n",
       "1    5.738358\n",
       "Name: number_words, dtype: float64"
      ]
     },
     "execution_count": 101,
     "metadata": {},
     "output_type": "execute_result"
    }
   ],
   "source": [
    "dfname[['successful', 'number_words']].groupby('successful').number_words.mean()"
   ]
  },
  {
   "cell_type": "code",
   "execution_count": 102,
   "metadata": {},
   "outputs": [
    {
     "data": {
      "text/html": [
       "<div>\n",
       "<style>\n",
       "    .dataframe thead tr:only-child th {\n",
       "        text-align: right;\n",
       "    }\n",
       "\n",
       "    .dataframe thead th {\n",
       "        text-align: left;\n",
       "    }\n",
       "\n",
       "    .dataframe tbody tr th {\n",
       "        vertical-align: top;\n",
       "    }\n",
       "</style>\n",
       "<table border=\"1\" class=\"dataframe\">\n",
       "  <thead>\n",
       "    <tr style=\"text-align: right;\">\n",
       "      <th></th>\n",
       "      <th>name_len</th>\n",
       "    </tr>\n",
       "    <tr>\n",
       "      <th>successful</th>\n",
       "      <th></th>\n",
       "    </tr>\n",
       "  </thead>\n",
       "  <tbody>\n",
       "    <tr>\n",
       "      <th>0</th>\n",
       "      <td>31.836251</td>\n",
       "    </tr>\n",
       "    <tr>\n",
       "      <th>1</th>\n",
       "      <td>34.781074</td>\n",
       "    </tr>\n",
       "  </tbody>\n",
       "</table>\n",
       "</div>"
      ],
      "text/plain": [
       "             name_len\n",
       "successful           \n",
       "0           31.836251\n",
       "1           34.781074"
      ]
     },
     "execution_count": 102,
     "metadata": {},
     "output_type": "execute_result"
    }
   ],
   "source": [
    "dfname[['successful', 'name_len']].groupby('successful').mean()"
   ]
  },
  {
   "cell_type": "code",
   "execution_count": 103,
   "metadata": {},
   "outputs": [
    {
     "data": {
      "text/html": [
       "<div>\n",
       "<style>\n",
       "    .dataframe thead tr:only-child th {\n",
       "        text-align: right;\n",
       "    }\n",
       "\n",
       "    .dataframe thead th {\n",
       "        text-align: left;\n",
       "    }\n",
       "\n",
       "    .dataframe tbody tr th {\n",
       "        vertical-align: top;\n",
       "    }\n",
       "</style>\n",
       "<table border=\"1\" class=\"dataframe\">\n",
       "  <thead>\n",
       "    <tr style=\"text-align: right;\">\n",
       "      <th></th>\n",
       "      <th>name_len</th>\n",
       "      <th>number_words</th>\n",
       "    </tr>\n",
       "  </thead>\n",
       "  <tbody>\n",
       "    <tr>\n",
       "      <th>count</th>\n",
       "      <td>378650.000000</td>\n",
       "      <td>378650.000000</td>\n",
       "    </tr>\n",
       "    <tr>\n",
       "      <th>mean</th>\n",
       "      <td>32.902049</td>\n",
       "      <td>5.378064</td>\n",
       "    </tr>\n",
       "    <tr>\n",
       "      <th>std</th>\n",
       "      <td>15.203882</td>\n",
       "      <td>2.592090</td>\n",
       "    </tr>\n",
       "    <tr>\n",
       "      <th>min</th>\n",
       "      <td>1.000000</td>\n",
       "      <td>1.000000</td>\n",
       "    </tr>\n",
       "    <tr>\n",
       "      <th>25%</th>\n",
       "      <td>20.000000</td>\n",
       "      <td>3.000000</td>\n",
       "    </tr>\n",
       "    <tr>\n",
       "      <th>50%</th>\n",
       "      <td>32.000000</td>\n",
       "      <td>5.000000</td>\n",
       "    </tr>\n",
       "    <tr>\n",
       "      <th>75%</th>\n",
       "      <td>46.000000</td>\n",
       "      <td>7.000000</td>\n",
       "    </tr>\n",
       "    <tr>\n",
       "      <th>max</th>\n",
       "      <td>85.000000</td>\n",
       "      <td>27.000000</td>\n",
       "    </tr>\n",
       "  </tbody>\n",
       "</table>\n",
       "</div>"
      ],
      "text/plain": [
       "            name_len   number_words\n",
       "count  378650.000000  378650.000000\n",
       "mean   32.902049      5.378064     \n",
       "std    15.203882      2.592090     \n",
       "min    1.000000       1.000000     \n",
       "25%    20.000000      3.000000     \n",
       "50%    32.000000      5.000000     \n",
       "75%    46.000000      7.000000     \n",
       "max    85.000000      27.000000    "
      ]
     },
     "execution_count": 103,
     "metadata": {},
     "output_type": "execute_result"
    }
   ],
   "source": [
    "dfname.describe()"
   ]
  },
  {
   "cell_type": "code",
   "execution_count": 79,
   "metadata": {},
   "outputs": [
    {
     "data": {
      "text/plain": [
       "Index(['name', 'category', 'main_category', 'currency', 'deadline', 'goal',\n",
       "       'launched', 'pledged', 'state', 'backers', 'country', 'date_diff',\n",
       "       'successful', 'rtdate', 'rate', 'goal_usd', 'pledged_usd', 'name_len',\n",
       "       'name_low', 'name_words', 'number_words'],\n",
       "      dtype='object')"
      ]
     },
     "execution_count": 79,
     "metadata": {},
     "output_type": "execute_result"
    }
   ],
   "source": [
    "dfname.columns"
   ]
  },
  {
   "cell_type": "code",
   "execution_count": 129,
   "metadata": {
    "collapsed": true
   },
   "outputs": [],
   "source": []
  },
  {
   "cell_type": "code",
   "execution_count": 80,
   "metadata": {
    "collapsed": true
   },
   "outputs": [],
   "source": [
    "pd.set_option('display.width', 1000)"
   ]
  },
  {
   "cell_type": "code",
   "execution_count": 81,
   "metadata": {
    "collapsed": true
   },
   "outputs": [],
   "source": [
    "pd.set_option('display.max_colwidth', -1)"
   ]
  },
  {
   "cell_type": "code",
   "execution_count": null,
   "metadata": {
    "collapsed": true
   },
   "outputs": [],
   "source": []
  },
  {
   "cell_type": "code",
   "execution_count": 104,
   "metadata": {},
   "outputs": [
    {
     "data": {
      "text/plain": [
       "0"
      ]
     },
     "execution_count": 104,
     "metadata": {},
     "output_type": "execute_result"
    }
   ],
   "source": [
    "dfname.name_words.isnull().sum()"
   ]
  },
  {
   "cell_type": "code",
   "execution_count": null,
   "metadata": {
    "collapsed": true
   },
   "outputs": [],
   "source": []
  },
  {
   "cell_type": "code",
   "execution_count": 105,
   "metadata": {
    "collapsed": true
   },
   "outputs": [],
   "source": [
    "table2 = dfname"
   ]
  },
  {
   "cell_type": "code",
   "execution_count": 106,
   "metadata": {},
   "outputs": [
    {
     "data": {
      "text/html": [
       "<div>\n",
       "<style>\n",
       "    .dataframe thead tr:only-child th {\n",
       "        text-align: right;\n",
       "    }\n",
       "\n",
       "    .dataframe thead th {\n",
       "        text-align: left;\n",
       "    }\n",
       "\n",
       "    .dataframe tbody tr th {\n",
       "        vertical-align: top;\n",
       "    }\n",
       "</style>\n",
       "<table border=\"1\" class=\"dataframe\">\n",
       "  <thead>\n",
       "    <tr style=\"text-align: right;\">\n",
       "      <th></th>\n",
       "      <th>successful</th>\n",
       "      <th>word</th>\n",
       "    </tr>\n",
       "  </thead>\n",
       "  <tbody>\n",
       "    <tr>\n",
       "      <th>0</th>\n",
       "      <td>0</td>\n",
       "      <td>the</td>\n",
       "    </tr>\n",
       "    <tr>\n",
       "      <th>1</th>\n",
       "      <td>0</td>\n",
       "      <td>songs</td>\n",
       "    </tr>\n",
       "    <tr>\n",
       "      <th>2</th>\n",
       "      <td>0</td>\n",
       "      <td>of</td>\n",
       "    </tr>\n",
       "    <tr>\n",
       "      <th>3</th>\n",
       "      <td>0</td>\n",
       "      <td>adelaide</td>\n",
       "    </tr>\n",
       "    <tr>\n",
       "      <th>4</th>\n",
       "      <td>0</td>\n",
       "      <td>abullah</td>\n",
       "    </tr>\n",
       "  </tbody>\n",
       "</table>\n",
       "</div>"
      ],
      "text/plain": [
       "   successful      word\n",
       "0  0           the     \n",
       "1  0           songs   \n",
       "2  0           of      \n",
       "3  0           adelaide\n",
       "4  0           abullah "
      ]
     },
     "execution_count": 106,
     "metadata": {},
     "output_type": "execute_result"
    }
   ],
   "source": [
    "rows= list()\n",
    "for row in table2[['successful', 'name_words']].iterrows():\n",
    "    r = row[1]\n",
    "    for word in r.name_words:\n",
    "        rows.append((r.successful, word))\n",
    "        \n",
    "words = pd.DataFrame(rows, columns=['successful', 'word'])\n",
    "words.head()"
   ]
  },
  {
   "cell_type": "code",
   "execution_count": 107,
   "metadata": {},
   "outputs": [
    {
     "data": {
      "text/html": [
       "<div>\n",
       "<style>\n",
       "    .dataframe thead tr:only-child th {\n",
       "        text-align: right;\n",
       "    }\n",
       "\n",
       "    .dataframe thead th {\n",
       "        text-align: left;\n",
       "    }\n",
       "\n",
       "    .dataframe tbody tr th {\n",
       "        vertical-align: top;\n",
       "    }\n",
       "</style>\n",
       "<table border=\"1\" class=\"dataframe\">\n",
       "  <thead>\n",
       "    <tr style=\"text-align: right;\">\n",
       "      <th></th>\n",
       "      <th>successful</th>\n",
       "      <th>word</th>\n",
       "    </tr>\n",
       "  </thead>\n",
       "  <tbody>\n",
       "  </tbody>\n",
       "</table>\n",
       "</div>"
      ],
      "text/plain": [
       "Empty DataFrame\n",
       "Columns: [successful, word]\n",
       "Index: []"
      ]
     },
     "execution_count": 107,
     "metadata": {},
     "output_type": "execute_result"
    }
   ],
   "source": [
    "words[words.word == '']"
   ]
  },
  {
   "cell_type": "code",
   "execution_count": 132,
   "metadata": {},
   "outputs": [],
   "source": [
    "count = words.pivot_table(index = 'word', columns='successful',aggfunc=np.size)\n"
   ]
  },
  {
   "cell_type": "code",
   "execution_count": 134,
   "metadata": {},
   "outputs": [],
   "source": [
    "count = count.sort_values(1, ascending=False)"
   ]
  },
  {
   "cell_type": "code",
   "execution_count": null,
   "metadata": {},
   "outputs": [],
   "source": []
  },
  {
   "cell_type": "code",
   "execution_count": 139,
   "metadata": {
    "collapsed": true
   },
   "outputs": [],
   "source": [
    "count['prop_successful'] = count[1] / len(dfname[dfname.successful == 1])"
   ]
  },
  {
   "cell_type": "code",
   "execution_count": 142,
   "metadata": {
    "collapsed": true
   },
   "outputs": [],
   "source": [
    "count['prop_failed'] = count[0] / len(dfname[dfname.successful == 0])"
   ]
  },
  {
   "cell_type": "code",
   "execution_count": 144,
   "metadata": {
    "collapsed": true
   },
   "outputs": [],
   "source": [
    "count['diff'] = count['prop_successful'] - count['prop_failed']"
   ]
  },
  {
   "cell_type": "code",
   "execution_count": 148,
   "metadata": {
    "collapsed": true
   },
   "outputs": [],
   "source": [
    "sorted_bydiff = count.sort_values(by='diff', ascending=False)"
   ]
  },
  {
   "cell_type": "code",
   "execution_count": 149,
   "metadata": {},
   "outputs": [
    {
     "data": {
      "text/html": [
       "<div>\n",
       "<style>\n",
       "    .dataframe thead tr:only-child th {\n",
       "        text-align: right;\n",
       "    }\n",
       "\n",
       "    .dataframe thead th {\n",
       "        text-align: left;\n",
       "    }\n",
       "\n",
       "    .dataframe tbody tr th {\n",
       "        vertical-align: top;\n",
       "    }\n",
       "</style>\n",
       "<table border=\"1\" class=\"dataframe\">\n",
       "  <thead>\n",
       "    <tr style=\"text-align: right;\">\n",
       "      <th>successful</th>\n",
       "      <th>0</th>\n",
       "      <th>1</th>\n",
       "      <th>prop_successful</th>\n",
       "      <th>prop_failed</th>\n",
       "      <th>diff</th>\n",
       "    </tr>\n",
       "    <tr>\n",
       "      <th>word</th>\n",
       "      <th></th>\n",
       "      <th></th>\n",
       "      <th></th>\n",
       "      <th></th>\n",
       "      <th></th>\n",
       "    </tr>\n",
       "  </thead>\n",
       "  <tbody>\n",
       "    <tr>\n",
       "      <th>the</th>\n",
       "      <td>127354.0</td>\n",
       "      <td>82718.0</td>\n",
       "      <td>0.603596</td>\n",
       "      <td>0.527110</td>\n",
       "      <td>0.076486</td>\n",
       "    </tr>\n",
       "    <tr>\n",
       "      <th>a</th>\n",
       "      <td>59402.0</td>\n",
       "      <td>42982.0</td>\n",
       "      <td>0.313641</td>\n",
       "      <td>0.245861</td>\n",
       "      <td>0.067780</td>\n",
       "    </tr>\n",
       "    <tr>\n",
       "      <th>album</th>\n",
       "      <td>10410.0</td>\n",
       "      <td>13454.0</td>\n",
       "      <td>0.098174</td>\n",
       "      <td>0.043086</td>\n",
       "      <td>0.055088</td>\n",
       "    </tr>\n",
       "    <tr>\n",
       "      <th>new</th>\n",
       "      <td>13666.0</td>\n",
       "      <td>14020.0</td>\n",
       "      <td>0.102304</td>\n",
       "      <td>0.056563</td>\n",
       "      <td>0.045742</td>\n",
       "    </tr>\n",
       "    <tr>\n",
       "      <th>film</th>\n",
       "      <td>11454.0</td>\n",
       "      <td>11534.0</td>\n",
       "      <td>0.084164</td>\n",
       "      <td>0.047407</td>\n",
       "      <td>0.036757</td>\n",
       "    </tr>\n",
       "    <tr>\n",
       "      <th>by</th>\n",
       "      <td>10274.0</td>\n",
       "      <td>9764.0</td>\n",
       "      <td>0.071248</td>\n",
       "      <td>0.042523</td>\n",
       "      <td>0.028725</td>\n",
       "    </tr>\n",
       "    <tr>\n",
       "      <th>debut</th>\n",
       "      <td>3824.0</td>\n",
       "      <td>6088.0</td>\n",
       "      <td>0.044424</td>\n",
       "      <td>0.015827</td>\n",
       "      <td>0.028597</td>\n",
       "    </tr>\n",
       "    <tr>\n",
       "      <th>short</th>\n",
       "      <td>4608.0</td>\n",
       "      <td>6228.0</td>\n",
       "      <td>0.045446</td>\n",
       "      <td>0.019072</td>\n",
       "      <td>0.026374</td>\n",
       "    </tr>\n",
       "    <tr>\n",
       "      <th>ep</th>\n",
       "      <td>3632.0</td>\n",
       "      <td>4854.0</td>\n",
       "      <td>0.035420</td>\n",
       "      <td>0.015033</td>\n",
       "      <td>0.020387</td>\n",
       "    </tr>\n",
       "    <tr>\n",
       "      <th>of</th>\n",
       "      <td>46570.0</td>\n",
       "      <td>28568.0</td>\n",
       "      <td>0.208462</td>\n",
       "      <td>0.192750</td>\n",
       "      <td>0.015711</td>\n",
       "    </tr>\n",
       "    <tr>\n",
       "      <th>album!</th>\n",
       "      <td>986.0</td>\n",
       "      <td>2628.0</td>\n",
       "      <td>0.019177</td>\n",
       "      <td>0.004081</td>\n",
       "      <td>0.015096</td>\n",
       "    </tr>\n",
       "    <tr>\n",
       "      <th>first</th>\n",
       "      <td>7310.0</td>\n",
       "      <td>5860.0</td>\n",
       "      <td>0.042761</td>\n",
       "      <td>0.030256</td>\n",
       "      <td>0.012505</td>\n",
       "    </tr>\n",
       "    <tr>\n",
       "      <th>at</th>\n",
       "      <td>3902.0</td>\n",
       "      <td>3862.0</td>\n",
       "      <td>0.028181</td>\n",
       "      <td>0.016150</td>\n",
       "      <td>0.012031</td>\n",
       "    </tr>\n",
       "    <tr>\n",
       "      <th>record</th>\n",
       "      <td>1832.0</td>\n",
       "      <td>2664.0</td>\n",
       "      <td>0.019439</td>\n",
       "      <td>0.007583</td>\n",
       "      <td>0.011857</td>\n",
       "    </tr>\n",
       "    <tr>\n",
       "      <th>in</th>\n",
       "      <td>21770.0</td>\n",
       "      <td>13898.0</td>\n",
       "      <td>0.101414</td>\n",
       "      <td>0.090105</td>\n",
       "      <td>0.011310</td>\n",
       "    </tr>\n",
       "    <tr>\n",
       "      <th>2</th>\n",
       "      <td>3388.0</td>\n",
       "      <td>3396.0</td>\n",
       "      <td>0.024781</td>\n",
       "      <td>0.014023</td>\n",
       "      <td>0.010758</td>\n",
       "    </tr>\n",
       "    <tr>\n",
       "      <th>an</th>\n",
       "      <td>8430.0</td>\n",
       "      <td>6196.0</td>\n",
       "      <td>0.045212</td>\n",
       "      <td>0.034891</td>\n",
       "      <td>0.010321</td>\n",
       "    </tr>\n",
       "    <tr>\n",
       "      <th>festival</th>\n",
       "      <td>2110.0</td>\n",
       "      <td>2492.0</td>\n",
       "      <td>0.018184</td>\n",
       "      <td>0.008733</td>\n",
       "      <td>0.009451</td>\n",
       "    </tr>\n",
       "    <tr>\n",
       "      <th>cd</th>\n",
       "      <td>2588.0</td>\n",
       "      <td>2752.0</td>\n",
       "      <td>0.020081</td>\n",
       "      <td>0.010712</td>\n",
       "      <td>0.009370</td>\n",
       "    </tr>\n",
       "    <tr>\n",
       "      <th>edition</th>\n",
       "      <td>1476.0</td>\n",
       "      <td>2020.0</td>\n",
       "      <td>0.014740</td>\n",
       "      <td>0.006109</td>\n",
       "      <td>0.008631</td>\n",
       "    </tr>\n",
       "    <tr>\n",
       "      <th>presents</th>\n",
       "      <td>1196.0</td>\n",
       "      <td>1836.0</td>\n",
       "      <td>0.013397</td>\n",
       "      <td>0.004950</td>\n",
       "      <td>0.008447</td>\n",
       "    </tr>\n",
       "    <tr>\n",
       "      <th>cards</th>\n",
       "      <td>2734.0</td>\n",
       "      <td>2694.0</td>\n",
       "      <td>0.019658</td>\n",
       "      <td>0.011316</td>\n",
       "      <td>0.008342</td>\n",
       "    </tr>\n",
       "    <tr>\n",
       "      <th>dance</th>\n",
       "      <td>1596.0</td>\n",
       "      <td>2024.0</td>\n",
       "      <td>0.014769</td>\n",
       "      <td>0.006606</td>\n",
       "      <td>0.008163</td>\n",
       "    </tr>\n",
       "    <tr>\n",
       "      <th>1</th>\n",
       "      <td>4006.0</td>\n",
       "      <td>3388.0</td>\n",
       "      <td>0.024722</td>\n",
       "      <td>0.016581</td>\n",
       "      <td>0.008142</td>\n",
       "    </tr>\n",
       "    <tr>\n",
       "      <th>book</th>\n",
       "      <td>11452.0</td>\n",
       "      <td>7588.0</td>\n",
       "      <td>0.055370</td>\n",
       "      <td>0.047399</td>\n",
       "      <td>0.007971</td>\n",
       "    </tr>\n",
       "    <tr>\n",
       "      <th>from</th>\n",
       "      <td>6500.0</td>\n",
       "      <td>4686.0</td>\n",
       "      <td>0.034194</td>\n",
       "      <td>0.026903</td>\n",
       "      <td>0.007291</td>\n",
       "    </tr>\n",
       "    <tr>\n",
       "      <th>playing</th>\n",
       "      <td>1864.0</td>\n",
       "      <td>2032.0</td>\n",
       "      <td>0.014828</td>\n",
       "      <td>0.007715</td>\n",
       "      <td>0.007113</td>\n",
       "    </tr>\n",
       "    <tr>\n",
       "      <th>issue</th>\n",
       "      <td>856.0</td>\n",
       "      <td>1458.0</td>\n",
       "      <td>0.010639</td>\n",
       "      <td>0.003543</td>\n",
       "      <td>0.007096</td>\n",
       "    </tr>\n",
       "    <tr>\n",
       "      <th>tour</th>\n",
       "      <td>3252.0</td>\n",
       "      <td>2798.0</td>\n",
       "      <td>0.020417</td>\n",
       "      <td>0.013460</td>\n",
       "      <td>0.006957</td>\n",
       "    </tr>\n",
       "    <tr>\n",
       "      <th>enamel</th>\n",
       "      <td>720.0</td>\n",
       "      <td>1336.0</td>\n",
       "      <td>0.009749</td>\n",
       "      <td>0.002980</td>\n",
       "      <td>0.006769</td>\n",
       "    </tr>\n",
       "    <tr>\n",
       "      <th>...</th>\n",
       "      <td>...</td>\n",
       "      <td>...</td>\n",
       "      <td>...</td>\n",
       "      <td>...</td>\n",
       "      <td>...</td>\n",
       "    </tr>\n",
       "    <tr>\n",
       "      <th>zyde</th>\n",
       "      <td>2.0</td>\n",
       "      <td>NaN</td>\n",
       "      <td>NaN</td>\n",
       "      <td>0.000008</td>\n",
       "      <td>NaN</td>\n",
       "    </tr>\n",
       "    <tr>\n",
       "      <th>zye</th>\n",
       "      <td>2.0</td>\n",
       "      <td>NaN</td>\n",
       "      <td>NaN</td>\n",
       "      <td>0.000008</td>\n",
       "      <td>NaN</td>\n",
       "    </tr>\n",
       "    <tr>\n",
       "      <th>zyfy</th>\n",
       "      <td>2.0</td>\n",
       "      <td>NaN</td>\n",
       "      <td>NaN</td>\n",
       "      <td>0.000008</td>\n",
       "      <td>NaN</td>\n",
       "    </tr>\n",
       "    <tr>\n",
       "      <th>zyklon</th>\n",
       "      <td>2.0</td>\n",
       "      <td>NaN</td>\n",
       "      <td>NaN</td>\n",
       "      <td>0.000008</td>\n",
       "      <td>NaN</td>\n",
       "    </tr>\n",
       "    <tr>\n",
       "      <th>zylist</th>\n",
       "      <td>2.0</td>\n",
       "      <td>NaN</td>\n",
       "      <td>NaN</td>\n",
       "      <td>0.000008</td>\n",
       "      <td>NaN</td>\n",
       "    </tr>\n",
       "    <tr>\n",
       "      <th>zylor</th>\n",
       "      <td>2.0</td>\n",
       "      <td>NaN</td>\n",
       "      <td>NaN</td>\n",
       "      <td>0.000008</td>\n",
       "      <td>NaN</td>\n",
       "    </tr>\n",
       "    <tr>\n",
       "      <th>zyn</th>\n",
       "      <td>2.0</td>\n",
       "      <td>NaN</td>\n",
       "      <td>NaN</td>\n",
       "      <td>0.000008</td>\n",
       "      <td>NaN</td>\n",
       "    </tr>\n",
       "    <tr>\n",
       "      <th>zynthea</th>\n",
       "      <td>2.0</td>\n",
       "      <td>NaN</td>\n",
       "      <td>NaN</td>\n",
       "      <td>0.000008</td>\n",
       "      <td>NaN</td>\n",
       "    </tr>\n",
       "    <tr>\n",
       "      <th>zyntony</th>\n",
       "      <td>2.0</td>\n",
       "      <td>NaN</td>\n",
       "      <td>NaN</td>\n",
       "      <td>0.000008</td>\n",
       "      <td>NaN</td>\n",
       "    </tr>\n",
       "    <tr>\n",
       "      <th>zyon</th>\n",
       "      <td>2.0</td>\n",
       "      <td>NaN</td>\n",
       "      <td>NaN</td>\n",
       "      <td>0.000008</td>\n",
       "      <td>NaN</td>\n",
       "    </tr>\n",
       "    <tr>\n",
       "      <th>zyp</th>\n",
       "      <td>2.0</td>\n",
       "      <td>NaN</td>\n",
       "      <td>NaN</td>\n",
       "      <td>0.000008</td>\n",
       "      <td>NaN</td>\n",
       "    </tr>\n",
       "    <tr>\n",
       "      <th>zypern</th>\n",
       "      <td>2.0</td>\n",
       "      <td>NaN</td>\n",
       "      <td>NaN</td>\n",
       "      <td>0.000008</td>\n",
       "      <td>NaN</td>\n",
       "    </tr>\n",
       "    <tr>\n",
       "      <th>zypher</th>\n",
       "      <td>2.0</td>\n",
       "      <td>NaN</td>\n",
       "      <td>NaN</td>\n",
       "      <td>0.000008</td>\n",
       "      <td>NaN</td>\n",
       "    </tr>\n",
       "    <tr>\n",
       "      <th>zypic</th>\n",
       "      <td>2.0</td>\n",
       "      <td>NaN</td>\n",
       "      <td>NaN</td>\n",
       "      <td>0.000008</td>\n",
       "      <td>NaN</td>\n",
       "    </tr>\n",
       "    <tr>\n",
       "      <th>zypr</th>\n",
       "      <td>2.0</td>\n",
       "      <td>NaN</td>\n",
       "      <td>NaN</td>\n",
       "      <td>0.000008</td>\n",
       "      <td>NaN</td>\n",
       "    </tr>\n",
       "    <tr>\n",
       "      <th>zyrenah</th>\n",
       "      <td>2.0</td>\n",
       "      <td>NaN</td>\n",
       "      <td>NaN</td>\n",
       "      <td>0.000008</td>\n",
       "      <td>NaN</td>\n",
       "    </tr>\n",
       "    <tr>\n",
       "      <th>zyro</th>\n",
       "      <td>2.0</td>\n",
       "      <td>NaN</td>\n",
       "      <td>NaN</td>\n",
       "      <td>0.000008</td>\n",
       "      <td>NaN</td>\n",
       "    </tr>\n",
       "    <tr>\n",
       "      <th>zys</th>\n",
       "      <td>2.0</td>\n",
       "      <td>NaN</td>\n",
       "      <td>NaN</td>\n",
       "      <td>0.000008</td>\n",
       "      <td>NaN</td>\n",
       "    </tr>\n",
       "    <tr>\n",
       "      <th>zyxzs</th>\n",
       "      <td>2.0</td>\n",
       "      <td>NaN</td>\n",
       "      <td>NaN</td>\n",
       "      <td>0.000008</td>\n",
       "      <td>NaN</td>\n",
       "    </tr>\n",
       "    <tr>\n",
       "      <th>zz</th>\n",
       "      <td>2.0</td>\n",
       "      <td>NaN</td>\n",
       "      <td>NaN</td>\n",
       "      <td>0.000008</td>\n",
       "      <td>NaN</td>\n",
       "    </tr>\n",
       "    <tr>\n",
       "      <th>zzhive</th>\n",
       "      <td>2.0</td>\n",
       "      <td>NaN</td>\n",
       "      <td>NaN</td>\n",
       "      <td>0.000008</td>\n",
       "      <td>NaN</td>\n",
       "    </tr>\n",
       "    <tr>\n",
       "      <th>zzipit</th>\n",
       "      <td>4.0</td>\n",
       "      <td>NaN</td>\n",
       "      <td>NaN</td>\n",
       "      <td>0.000017</td>\n",
       "      <td>NaN</td>\n",
       "    </tr>\n",
       "    <tr>\n",
       "      <th>zzola</th>\n",
       "      <td>2.0</td>\n",
       "      <td>NaN</td>\n",
       "      <td>NaN</td>\n",
       "      <td>0.000008</td>\n",
       "      <td>NaN</td>\n",
       "    </tr>\n",
       "    <tr>\n",
       "      <th>zzp</th>\n",
       "      <td>2.0</td>\n",
       "      <td>NaN</td>\n",
       "      <td>NaN</td>\n",
       "      <td>0.000008</td>\n",
       "      <td>NaN</td>\n",
       "    </tr>\n",
       "    <tr>\n",
       "      <th>zzyzx</th>\n",
       "      <td>6.0</td>\n",
       "      <td>NaN</td>\n",
       "      <td>NaN</td>\n",
       "      <td>0.000025</td>\n",
       "      <td>NaN</td>\n",
       "    </tr>\n",
       "    <tr>\n",
       "      <th>zzz</th>\n",
       "      <td>6.0</td>\n",
       "      <td>NaN</td>\n",
       "      <td>NaN</td>\n",
       "      <td>0.000025</td>\n",
       "      <td>NaN</td>\n",
       "    </tr>\n",
       "    <tr>\n",
       "      <th>zzzleepy</th>\n",
       "      <td>2.0</td>\n",
       "      <td>NaN</td>\n",
       "      <td>NaN</td>\n",
       "      <td>0.000008</td>\n",
       "      <td>NaN</td>\n",
       "    </tr>\n",
       "    <tr>\n",
       "      <th>zzzmask</th>\n",
       "      <td>2.0</td>\n",
       "      <td>NaN</td>\n",
       "      <td>NaN</td>\n",
       "      <td>0.000008</td>\n",
       "      <td>NaN</td>\n",
       "    </tr>\n",
       "    <tr>\n",
       "      <th>zzzs</th>\n",
       "      <td>2.0</td>\n",
       "      <td>NaN</td>\n",
       "      <td>NaN</td>\n",
       "      <td>0.000008</td>\n",
       "      <td>NaN</td>\n",
       "    </tr>\n",
       "    <tr>\n",
       "      <th>zzzymble</th>\n",
       "      <td>2.0</td>\n",
       "      <td>NaN</td>\n",
       "      <td>NaN</td>\n",
       "      <td>0.000008</td>\n",
       "      <td>NaN</td>\n",
       "    </tr>\n",
       "  </tbody>\n",
       "</table>\n",
       "<p>179714 rows × 5 columns</p>\n",
       "</div>"
      ],
      "text/plain": [
       "successful         0        1  prop_successful  prop_failed      diff\n",
       "word                                                                 \n",
       "the         127354.0  82718.0  0.603596         0.527110     0.076486\n",
       "a           59402.0   42982.0  0.313641         0.245861     0.067780\n",
       "album       10410.0   13454.0  0.098174         0.043086     0.055088\n",
       "new         13666.0   14020.0  0.102304         0.056563     0.045742\n",
       "film        11454.0   11534.0  0.084164         0.047407     0.036757\n",
       "by          10274.0   9764.0   0.071248         0.042523     0.028725\n",
       "debut       3824.0    6088.0   0.044424         0.015827     0.028597\n",
       "short       4608.0    6228.0   0.045446         0.019072     0.026374\n",
       "ep          3632.0    4854.0   0.035420         0.015033     0.020387\n",
       "of          46570.0   28568.0  0.208462         0.192750     0.015711\n",
       "album!      986.0     2628.0   0.019177         0.004081     0.015096\n",
       "first       7310.0    5860.0   0.042761         0.030256     0.012505\n",
       "at          3902.0    3862.0   0.028181         0.016150     0.012031\n",
       "record      1832.0    2664.0   0.019439         0.007583     0.011857\n",
       "in          21770.0   13898.0  0.101414         0.090105     0.011310\n",
       "2           3388.0    3396.0   0.024781         0.014023     0.010758\n",
       "an          8430.0    6196.0   0.045212         0.034891     0.010321\n",
       "festival    2110.0    2492.0   0.018184         0.008733     0.009451\n",
       "cd          2588.0    2752.0   0.020081         0.010712     0.009370\n",
       "edition     1476.0    2020.0   0.014740         0.006109     0.008631\n",
       "presents    1196.0    1836.0   0.013397         0.004950     0.008447\n",
       "cards       2734.0    2694.0   0.019658         0.011316     0.008342\n",
       "dance       1596.0    2024.0   0.014769         0.006606     0.008163\n",
       "1           4006.0    3388.0   0.024722         0.016581     0.008142\n",
       "book        11452.0   7588.0   0.055370         0.047399     0.007971\n",
       "from        6500.0    4686.0   0.034194         0.026903     0.007291\n",
       "playing     1864.0    2032.0   0.014828         0.007715     0.007113\n",
       "issue       856.0     1458.0   0.010639         0.003543     0.007096\n",
       "tour        3252.0    2798.0   0.020417         0.013460     0.006957\n",
       "enamel      720.0     1336.0   0.009749         0.002980     0.006769\n",
       "...            ...       ...        ...              ...          ...\n",
       "zyde        2.0      NaN      NaN               0.000008    NaN      \n",
       "zye         2.0      NaN      NaN               0.000008    NaN      \n",
       "zyfy        2.0      NaN      NaN               0.000008    NaN      \n",
       "zyklon      2.0      NaN      NaN               0.000008    NaN      \n",
       "zylist      2.0      NaN      NaN               0.000008    NaN      \n",
       "zylor       2.0      NaN      NaN               0.000008    NaN      \n",
       "zyn         2.0      NaN      NaN               0.000008    NaN      \n",
       "zynthea     2.0      NaN      NaN               0.000008    NaN      \n",
       "zyntony     2.0      NaN      NaN               0.000008    NaN      \n",
       "zyon        2.0      NaN      NaN               0.000008    NaN      \n",
       "zyp         2.0      NaN      NaN               0.000008    NaN      \n",
       "zypern      2.0      NaN      NaN               0.000008    NaN      \n",
       "zypher      2.0      NaN      NaN               0.000008    NaN      \n",
       "zypic       2.0      NaN      NaN               0.000008    NaN      \n",
       "zypr        2.0      NaN      NaN               0.000008    NaN      \n",
       "zyrenah     2.0      NaN      NaN               0.000008    NaN      \n",
       "zyro        2.0      NaN      NaN               0.000008    NaN      \n",
       "zys         2.0      NaN      NaN               0.000008    NaN      \n",
       "zyxzs       2.0      NaN      NaN               0.000008    NaN      \n",
       "zz          2.0      NaN      NaN               0.000008    NaN      \n",
       "zzhive      2.0      NaN      NaN               0.000008    NaN      \n",
       "zzipit      4.0      NaN      NaN               0.000017    NaN      \n",
       "zzola       2.0      NaN      NaN               0.000008    NaN      \n",
       "zzp         2.0      NaN      NaN               0.000008    NaN      \n",
       "zzyzx       6.0      NaN      NaN               0.000025    NaN      \n",
       "zzz         6.0      NaN      NaN               0.000025    NaN      \n",
       "zzzleepy    2.0      NaN      NaN               0.000008    NaN      \n",
       "zzzmask     2.0      NaN      NaN               0.000008    NaN      \n",
       "zzzs        2.0      NaN      NaN               0.000008    NaN      \n",
       "zzzymble    2.0      NaN      NaN               0.000008    NaN      \n",
       "\n",
       "[179714 rows x 5 columns]"
      ]
     },
     "execution_count": 149,
     "metadata": {},
     "output_type": "execute_result"
    }
   ],
   "source": [
    "sorted_bydiff"
   ]
  },
  {
   "cell_type": "code",
   "execution_count": null,
   "metadata": {
    "collapsed": true
   },
   "outputs": [],
   "source": []
  },
  {
   "cell_type": "code",
   "execution_count": null,
   "metadata": {},
   "outputs": [],
   "source": []
  },
  {
   "cell_type": "code",
   "execution_count": null,
   "metadata": {
    "collapsed": true
   },
   "outputs": [],
   "source": []
  }
 ],
 "metadata": {
  "kernelspec": {
   "display_name": "Python 3",
   "language": "python",
   "name": "python3"
  },
  "language_info": {
   "codemirror_mode": {
    "name": "ipython",
    "version": 3
   },
   "file_extension": ".py",
   "mimetype": "text/x-python",
   "name": "python",
   "nbconvert_exporter": "python",
   "pygments_lexer": "ipython3",
   "version": "3.6.3"
  }
 },
 "nbformat": 4,
 "nbformat_minor": 2
}
