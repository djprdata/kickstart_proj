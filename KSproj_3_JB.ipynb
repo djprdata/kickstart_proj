{
 "cells": [
  {
   "cell_type": "code",
   "execution_count": 1,
   "metadata": {
    "collapsed": true
   },
   "outputs": [],
   "source": [
    "import numpy as np\n",
    "import pandas as pd\n",
    "import matplotlib.pyplot as plt\n",
    "import matplotlib as mpl\n",
    "from pandas import Series, DataFrame\n",
    "from pylab import *\n",
    "import seaborn as sns\n"
   ]
  },
  {
   "cell_type": "code",
   "execution_count": 2,
   "metadata": {
    "collapsed": true
   },
   "outputs": [],
   "source": [
    "data = pd.read_csv('ks-projects-201801.csv')"
   ]
  },
  {
   "cell_type": "code",
   "execution_count": 3,
   "metadata": {
    "collapsed": true
   },
   "outputs": [],
   "source": [
    "pd.options.display.max_rows = 10"
   ]
  },
  {
   "cell_type": "code",
   "execution_count": 4,
   "metadata": {},
   "outputs": [
    {
     "name": "stdout",
     "output_type": "stream",
     "text": [
      "(378661, 15)\n"
     ]
    }
   ],
   "source": [
    "print(data.shape)"
   ]
  },
  {
   "cell_type": "code",
   "execution_count": 5,
   "metadata": {},
   "outputs": [
    {
     "name": "stdout",
     "output_type": "stream",
     "text": [
      "<class 'pandas.core.frame.DataFrame'>\n",
      "RangeIndex: 378661 entries, 0 to 378660\n",
      "Data columns (total 15 columns):\n",
      "ID                  378661 non-null int64\n",
      "name                378657 non-null object\n",
      "category            378661 non-null object\n",
      "main_category       378661 non-null object\n",
      "currency            378661 non-null object\n",
      "deadline            378661 non-null object\n",
      "goal                378661 non-null float64\n",
      "launched            378661 non-null object\n",
      "pledged             378661 non-null float64\n",
      "state               378661 non-null object\n",
      "backers             378661 non-null int64\n",
      "country             378661 non-null object\n",
      "usd pledged         374864 non-null float64\n",
      "usd_pledged_real    378661 non-null float64\n",
      "usd_goal_real       378661 non-null float64\n",
      "dtypes: float64(5), int64(2), object(8)\n",
      "memory usage: 43.3+ MB\n",
      "None\n"
     ]
    }
   ],
   "source": [
    "print(data.info())"
   ]
  },
  {
   "cell_type": "code",
   "execution_count": 6,
   "metadata": {},
   "outputs": [
    {
     "data": {
      "text/plain": [
       "ID                  378661\n",
       "name                375764\n",
       "category               159\n",
       "main_category           15\n",
       "currency                14\n",
       "                     ...  \n",
       "backers               3963\n",
       "country                 23\n",
       "usd pledged          95455\n",
       "usd_pledged_real    106065\n",
       "usd_goal_real        50339\n",
       "Length: 15, dtype: int64"
      ]
     },
     "execution_count": 6,
     "metadata": {},
     "output_type": "execute_result"
    }
   ],
   "source": [
    "data.nunique()"
   ]
  },
  {
   "cell_type": "code",
   "execution_count": 7,
   "metadata": {},
   "outputs": [
    {
     "data": {
      "text/plain": [
       "ID                     0\n",
       "name                   4\n",
       "category               0\n",
       "main_category          0\n",
       "currency               0\n",
       "                    ... \n",
       "backers                0\n",
       "country                0\n",
       "usd pledged         3797\n",
       "usd_pledged_real       0\n",
       "usd_goal_real          0\n",
       "Length: 15, dtype: int64"
      ]
     },
     "execution_count": 7,
     "metadata": {},
     "output_type": "execute_result"
    }
   ],
   "source": [
    "data.isnull().sum()"
   ]
  },
  {
   "cell_type": "code",
   "execution_count": 8,
   "metadata": {},
   "outputs": [
    {
     "data": {
      "text/html": [
       "<div>\n",
       "<style>\n",
       "    .dataframe thead tr:only-child th {\n",
       "        text-align: right;\n",
       "    }\n",
       "\n",
       "    .dataframe thead th {\n",
       "        text-align: left;\n",
       "    }\n",
       "\n",
       "    .dataframe tbody tr th {\n",
       "        vertical-align: top;\n",
       "    }\n",
       "</style>\n",
       "<table border=\"1\" class=\"dataframe\">\n",
       "  <thead>\n",
       "    <tr style=\"text-align: right;\">\n",
       "      <th></th>\n",
       "      <th>ID</th>\n",
       "      <th>name</th>\n",
       "      <th>category</th>\n",
       "      <th>main_category</th>\n",
       "      <th>currency</th>\n",
       "      <th>deadline</th>\n",
       "      <th>goal</th>\n",
       "      <th>launched</th>\n",
       "      <th>pledged</th>\n",
       "      <th>state</th>\n",
       "      <th>backers</th>\n",
       "      <th>country</th>\n",
       "      <th>usd pledged</th>\n",
       "      <th>usd_pledged_real</th>\n",
       "      <th>usd_goal_real</th>\n",
       "    </tr>\n",
       "  </thead>\n",
       "  <tbody>\n",
       "    <tr>\n",
       "      <th>0</th>\n",
       "      <td>1000002330</td>\n",
       "      <td>The Songs of Adelaide &amp; Abullah</td>\n",
       "      <td>Poetry</td>\n",
       "      <td>Publishing</td>\n",
       "      <td>GBP</td>\n",
       "      <td>2015-10-09</td>\n",
       "      <td>1000.0</td>\n",
       "      <td>2015-08-11 12:12:28</td>\n",
       "      <td>0.0</td>\n",
       "      <td>failed</td>\n",
       "      <td>0</td>\n",
       "      <td>GB</td>\n",
       "      <td>0.0</td>\n",
       "      <td>0.0</td>\n",
       "      <td>1533.95</td>\n",
       "    </tr>\n",
       "    <tr>\n",
       "      <th>1</th>\n",
       "      <td>1000003930</td>\n",
       "      <td>Greeting From Earth: ZGAC Arts Capsule For ET</td>\n",
       "      <td>Narrative Film</td>\n",
       "      <td>Film &amp; Video</td>\n",
       "      <td>USD</td>\n",
       "      <td>2017-11-01</td>\n",
       "      <td>30000.0</td>\n",
       "      <td>2017-09-02 04:43:57</td>\n",
       "      <td>2421.0</td>\n",
       "      <td>failed</td>\n",
       "      <td>15</td>\n",
       "      <td>US</td>\n",
       "      <td>100.0</td>\n",
       "      <td>2421.0</td>\n",
       "      <td>30000.00</td>\n",
       "    </tr>\n",
       "    <tr>\n",
       "      <th>2</th>\n",
       "      <td>1000004038</td>\n",
       "      <td>Where is Hank?</td>\n",
       "      <td>Narrative Film</td>\n",
       "      <td>Film &amp; Video</td>\n",
       "      <td>USD</td>\n",
       "      <td>2013-02-26</td>\n",
       "      <td>45000.0</td>\n",
       "      <td>2013-01-12 00:20:50</td>\n",
       "      <td>220.0</td>\n",
       "      <td>failed</td>\n",
       "      <td>3</td>\n",
       "      <td>US</td>\n",
       "      <td>220.0</td>\n",
       "      <td>220.0</td>\n",
       "      <td>45000.00</td>\n",
       "    </tr>\n",
       "    <tr>\n",
       "      <th>3</th>\n",
       "      <td>1000007540</td>\n",
       "      <td>ToshiCapital Rekordz Needs Help to Complete Album</td>\n",
       "      <td>Music</td>\n",
       "      <td>Music</td>\n",
       "      <td>USD</td>\n",
       "      <td>2012-04-16</td>\n",
       "      <td>5000.0</td>\n",
       "      <td>2012-03-17 03:24:11</td>\n",
       "      <td>1.0</td>\n",
       "      <td>failed</td>\n",
       "      <td>1</td>\n",
       "      <td>US</td>\n",
       "      <td>1.0</td>\n",
       "      <td>1.0</td>\n",
       "      <td>5000.00</td>\n",
       "    </tr>\n",
       "    <tr>\n",
       "      <th>4</th>\n",
       "      <td>1000011046</td>\n",
       "      <td>Community Film Project: The Art of Neighborhoo...</td>\n",
       "      <td>Film &amp; Video</td>\n",
       "      <td>Film &amp; Video</td>\n",
       "      <td>USD</td>\n",
       "      <td>2015-08-29</td>\n",
       "      <td>19500.0</td>\n",
       "      <td>2015-07-04 08:35:03</td>\n",
       "      <td>1283.0</td>\n",
       "      <td>canceled</td>\n",
       "      <td>14</td>\n",
       "      <td>US</td>\n",
       "      <td>1283.0</td>\n",
       "      <td>1283.0</td>\n",
       "      <td>19500.00</td>\n",
       "    </tr>\n",
       "  </tbody>\n",
       "</table>\n",
       "</div>"
      ],
      "text/plain": [
       "           ID                                               name  \\\n",
       "0  1000002330                    The Songs of Adelaide & Abullah   \n",
       "1  1000003930      Greeting From Earth: ZGAC Arts Capsule For ET   \n",
       "2  1000004038                                     Where is Hank?   \n",
       "3  1000007540  ToshiCapital Rekordz Needs Help to Complete Album   \n",
       "4  1000011046  Community Film Project: The Art of Neighborhoo...   \n",
       "\n",
       "         category main_category currency    deadline     goal  \\\n",
       "0          Poetry    Publishing      GBP  2015-10-09   1000.0   \n",
       "1  Narrative Film  Film & Video      USD  2017-11-01  30000.0   \n",
       "2  Narrative Film  Film & Video      USD  2013-02-26  45000.0   \n",
       "3           Music         Music      USD  2012-04-16   5000.0   \n",
       "4    Film & Video  Film & Video      USD  2015-08-29  19500.0   \n",
       "\n",
       "              launched  pledged     state  backers country  usd pledged  \\\n",
       "0  2015-08-11 12:12:28      0.0    failed        0      GB          0.0   \n",
       "1  2017-09-02 04:43:57   2421.0    failed       15      US        100.0   \n",
       "2  2013-01-12 00:20:50    220.0    failed        3      US        220.0   \n",
       "3  2012-03-17 03:24:11      1.0    failed        1      US          1.0   \n",
       "4  2015-07-04 08:35:03   1283.0  canceled       14      US       1283.0   \n",
       "\n",
       "   usd_pledged_real  usd_goal_real  \n",
       "0               0.0        1533.95  \n",
       "1            2421.0       30000.00  \n",
       "2             220.0       45000.00  \n",
       "3               1.0        5000.00  \n",
       "4            1283.0       19500.00  "
      ]
     },
     "execution_count": 8,
     "metadata": {},
     "output_type": "execute_result"
    }
   ],
   "source": [
    "data.head()"
   ]
  },
  {
   "cell_type": "code",
   "execution_count": 9,
   "metadata": {},
   "outputs": [
    {
     "data": {
      "text/html": [
       "<div>\n",
       "<style>\n",
       "    .dataframe thead tr:only-child th {\n",
       "        text-align: right;\n",
       "    }\n",
       "\n",
       "    .dataframe thead th {\n",
       "        text-align: left;\n",
       "    }\n",
       "\n",
       "    .dataframe tbody tr th {\n",
       "        vertical-align: top;\n",
       "    }\n",
       "</style>\n",
       "<table border=\"1\" class=\"dataframe\">\n",
       "  <thead>\n",
       "    <tr style=\"text-align: right;\">\n",
       "      <th></th>\n",
       "      <th>ID</th>\n",
       "      <th>goal</th>\n",
       "      <th>pledged</th>\n",
       "      <th>backers</th>\n",
       "      <th>usd pledged</th>\n",
       "      <th>usd_pledged_real</th>\n",
       "      <th>usd_goal_real</th>\n",
       "    </tr>\n",
       "  </thead>\n",
       "  <tbody>\n",
       "    <tr>\n",
       "      <th>count</th>\n",
       "      <td>3.786610e+05</td>\n",
       "      <td>3.786610e+05</td>\n",
       "      <td>3.786610e+05</td>\n",
       "      <td>378661.000000</td>\n",
       "      <td>3.748640e+05</td>\n",
       "      <td>3.786610e+05</td>\n",
       "      <td>3.786610e+05</td>\n",
       "    </tr>\n",
       "    <tr>\n",
       "      <th>mean</th>\n",
       "      <td>1.074731e+09</td>\n",
       "      <td>4.908079e+04</td>\n",
       "      <td>9.682979e+03</td>\n",
       "      <td>105.617476</td>\n",
       "      <td>7.036729e+03</td>\n",
       "      <td>9.058924e+03</td>\n",
       "      <td>4.545440e+04</td>\n",
       "    </tr>\n",
       "    <tr>\n",
       "      <th>std</th>\n",
       "      <td>6.190862e+08</td>\n",
       "      <td>1.183391e+06</td>\n",
       "      <td>9.563601e+04</td>\n",
       "      <td>907.185035</td>\n",
       "      <td>7.863975e+04</td>\n",
       "      <td>9.097334e+04</td>\n",
       "      <td>1.152950e+06</td>\n",
       "    </tr>\n",
       "    <tr>\n",
       "      <th>min</th>\n",
       "      <td>5.971000e+03</td>\n",
       "      <td>1.000000e-02</td>\n",
       "      <td>0.000000e+00</td>\n",
       "      <td>0.000000</td>\n",
       "      <td>0.000000e+00</td>\n",
       "      <td>0.000000e+00</td>\n",
       "      <td>1.000000e-02</td>\n",
       "    </tr>\n",
       "    <tr>\n",
       "      <th>25%</th>\n",
       "      <td>5.382635e+08</td>\n",
       "      <td>2.000000e+03</td>\n",
       "      <td>3.000000e+01</td>\n",
       "      <td>2.000000</td>\n",
       "      <td>1.698000e+01</td>\n",
       "      <td>3.100000e+01</td>\n",
       "      <td>2.000000e+03</td>\n",
       "    </tr>\n",
       "    <tr>\n",
       "      <th>50%</th>\n",
       "      <td>1.075276e+09</td>\n",
       "      <td>5.200000e+03</td>\n",
       "      <td>6.200000e+02</td>\n",
       "      <td>12.000000</td>\n",
       "      <td>3.947200e+02</td>\n",
       "      <td>6.243300e+02</td>\n",
       "      <td>5.500000e+03</td>\n",
       "    </tr>\n",
       "    <tr>\n",
       "      <th>75%</th>\n",
       "      <td>1.610149e+09</td>\n",
       "      <td>1.600000e+04</td>\n",
       "      <td>4.076000e+03</td>\n",
       "      <td>56.000000</td>\n",
       "      <td>3.034090e+03</td>\n",
       "      <td>4.050000e+03</td>\n",
       "      <td>1.550000e+04</td>\n",
       "    </tr>\n",
       "    <tr>\n",
       "      <th>max</th>\n",
       "      <td>2.147476e+09</td>\n",
       "      <td>1.000000e+08</td>\n",
       "      <td>2.033899e+07</td>\n",
       "      <td>219382.000000</td>\n",
       "      <td>2.033899e+07</td>\n",
       "      <td>2.033899e+07</td>\n",
       "      <td>1.663614e+08</td>\n",
       "    </tr>\n",
       "  </tbody>\n",
       "</table>\n",
       "</div>"
      ],
      "text/plain": [
       "                 ID          goal       pledged        backers   usd pledged  \\\n",
       "count  3.786610e+05  3.786610e+05  3.786610e+05  378661.000000  3.748640e+05   \n",
       "mean   1.074731e+09  4.908079e+04  9.682979e+03     105.617476  7.036729e+03   \n",
       "std    6.190862e+08  1.183391e+06  9.563601e+04     907.185035  7.863975e+04   \n",
       "min    5.971000e+03  1.000000e-02  0.000000e+00       0.000000  0.000000e+00   \n",
       "25%    5.382635e+08  2.000000e+03  3.000000e+01       2.000000  1.698000e+01   \n",
       "50%    1.075276e+09  5.200000e+03  6.200000e+02      12.000000  3.947200e+02   \n",
       "75%    1.610149e+09  1.600000e+04  4.076000e+03      56.000000  3.034090e+03   \n",
       "max    2.147476e+09  1.000000e+08  2.033899e+07  219382.000000  2.033899e+07   \n",
       "\n",
       "       usd_pledged_real  usd_goal_real  \n",
       "count      3.786610e+05   3.786610e+05  \n",
       "mean       9.058924e+03   4.545440e+04  \n",
       "std        9.097334e+04   1.152950e+06  \n",
       "min        0.000000e+00   1.000000e-02  \n",
       "25%        3.100000e+01   2.000000e+03  \n",
       "50%        6.243300e+02   5.500000e+03  \n",
       "75%        4.050000e+03   1.550000e+04  \n",
       "max        2.033899e+07   1.663614e+08  "
      ]
     },
     "execution_count": 9,
     "metadata": {},
     "output_type": "execute_result"
    }
   ],
   "source": [
    "data.describe()"
   ]
  },
  {
   "cell_type": "code",
   "execution_count": 10,
   "metadata": {},
   "outputs": [
    {
     "data": {
      "text/plain": [
       "Index(['ID', 'name', 'category', 'main_category', 'currency', 'deadline',\n",
       "       'goal', 'launched', 'pledged', 'state', 'backers', 'country',\n",
       "       'usd pledged', 'usd_pledged_real', 'usd_goal_real'],\n",
       "      dtype='object')"
      ]
     },
     "execution_count": 10,
     "metadata": {},
     "output_type": "execute_result"
    }
   ],
   "source": [
    "data.columns"
   ]
  },
  {
   "cell_type": "code",
   "execution_count": 11,
   "metadata": {
    "collapsed": true
   },
   "outputs": [],
   "source": [
    "columns_int = ['name', 'category', 'goal', 'pledged']"
   ]
  },
  {
   "cell_type": "code",
   "execution_count": 12,
   "metadata": {},
   "outputs": [
    {
     "data": {
      "text/html": [
       "<div>\n",
       "<style>\n",
       "    .dataframe thead tr:only-child th {\n",
       "        text-align: right;\n",
       "    }\n",
       "\n",
       "    .dataframe thead th {\n",
       "        text-align: left;\n",
       "    }\n",
       "\n",
       "    .dataframe tbody tr th {\n",
       "        vertical-align: top;\n",
       "    }\n",
       "</style>\n",
       "<table border=\"1\" class=\"dataframe\">\n",
       "  <thead>\n",
       "    <tr style=\"text-align: right;\">\n",
       "      <th></th>\n",
       "      <th>name</th>\n",
       "      <th>category</th>\n",
       "      <th>goal</th>\n",
       "      <th>pledged</th>\n",
       "    </tr>\n",
       "  </thead>\n",
       "  <tbody>\n",
       "    <tr>\n",
       "      <th>0</th>\n",
       "      <td>The Songs of Adelaide &amp; Abullah</td>\n",
       "      <td>Poetry</td>\n",
       "      <td>1000.0</td>\n",
       "      <td>0.0</td>\n",
       "    </tr>\n",
       "    <tr>\n",
       "      <th>1</th>\n",
       "      <td>Greeting From Earth: ZGAC Arts Capsule For ET</td>\n",
       "      <td>Narrative Film</td>\n",
       "      <td>30000.0</td>\n",
       "      <td>2421.0</td>\n",
       "    </tr>\n",
       "    <tr>\n",
       "      <th>2</th>\n",
       "      <td>Where is Hank?</td>\n",
       "      <td>Narrative Film</td>\n",
       "      <td>45000.0</td>\n",
       "      <td>220.0</td>\n",
       "    </tr>\n",
       "    <tr>\n",
       "      <th>3</th>\n",
       "      <td>ToshiCapital Rekordz Needs Help to Complete Album</td>\n",
       "      <td>Music</td>\n",
       "      <td>5000.0</td>\n",
       "      <td>1.0</td>\n",
       "    </tr>\n",
       "    <tr>\n",
       "      <th>4</th>\n",
       "      <td>Community Film Project: The Art of Neighborhoo...</td>\n",
       "      <td>Film &amp; Video</td>\n",
       "      <td>19500.0</td>\n",
       "      <td>1283.0</td>\n",
       "    </tr>\n",
       "  </tbody>\n",
       "</table>\n",
       "</div>"
      ],
      "text/plain": [
       "                                                name        category     goal  \\\n",
       "0                    The Songs of Adelaide & Abullah          Poetry   1000.0   \n",
       "1      Greeting From Earth: ZGAC Arts Capsule For ET  Narrative Film  30000.0   \n",
       "2                                     Where is Hank?  Narrative Film  45000.0   \n",
       "3  ToshiCapital Rekordz Needs Help to Complete Album           Music   5000.0   \n",
       "4  Community Film Project: The Art of Neighborhoo...    Film & Video  19500.0   \n",
       "\n",
       "   pledged  \n",
       "0      0.0  \n",
       "1   2421.0  \n",
       "2    220.0  \n",
       "3      1.0  \n",
       "4   1283.0  "
      ]
     },
     "execution_count": 12,
     "metadata": {},
     "output_type": "execute_result"
    }
   ],
   "source": [
    "col_data = data[columns_int]\n",
    "col_data.head()"
   ]
  },
  {
   "cell_type": "code",
   "execution_count": 13,
   "metadata": {},
   "outputs": [
    {
     "data": {
      "text/html": [
       "<div>\n",
       "<style>\n",
       "    .dataframe thead tr:only-child th {\n",
       "        text-align: right;\n",
       "    }\n",
       "\n",
       "    .dataframe thead th {\n",
       "        text-align: left;\n",
       "    }\n",
       "\n",
       "    .dataframe tbody tr th {\n",
       "        vertical-align: top;\n",
       "    }\n",
       "</style>\n",
       "<table border=\"1\" class=\"dataframe\">\n",
       "  <thead>\n",
       "    <tr style=\"text-align: right;\">\n",
       "      <th></th>\n",
       "      <th>name</th>\n",
       "      <th>category</th>\n",
       "      <th>goal</th>\n",
       "      <th>pledged</th>\n",
       "    </tr>\n",
       "  </thead>\n",
       "  <tbody>\n",
       "    <tr>\n",
       "      <th>0</th>\n",
       "      <td>The Songs of Adelaide &amp; Abullah</td>\n",
       "      <td>Poetry</td>\n",
       "      <td>1000.0</td>\n",
       "      <td>0.0</td>\n",
       "    </tr>\n",
       "    <tr>\n",
       "      <th>1</th>\n",
       "      <td>Greeting From Earth: ZGAC Arts Capsule For ET</td>\n",
       "      <td>Narrative Film</td>\n",
       "      <td>30000.0</td>\n",
       "      <td>2421.0</td>\n",
       "    </tr>\n",
       "    <tr>\n",
       "      <th>2</th>\n",
       "      <td>Where is Hank?</td>\n",
       "      <td>Narrative Film</td>\n",
       "      <td>45000.0</td>\n",
       "      <td>220.0</td>\n",
       "    </tr>\n",
       "    <tr>\n",
       "      <th>3</th>\n",
       "      <td>ToshiCapital Rekordz Needs Help to Complete Album</td>\n",
       "      <td>Music</td>\n",
       "      <td>5000.0</td>\n",
       "      <td>1.0</td>\n",
       "    </tr>\n",
       "    <tr>\n",
       "      <th>4</th>\n",
       "      <td>Community Film Project: The Art of Neighborhoo...</td>\n",
       "      <td>Film &amp; Video</td>\n",
       "      <td>19500.0</td>\n",
       "      <td>1283.0</td>\n",
       "    </tr>\n",
       "    <tr>\n",
       "      <th>...</th>\n",
       "      <td>...</td>\n",
       "      <td>...</td>\n",
       "      <td>...</td>\n",
       "      <td>...</td>\n",
       "    </tr>\n",
       "    <tr>\n",
       "      <th>378656</th>\n",
       "      <td>ChknTruk Nationwide Charity Drive 2014 (Canceled)</td>\n",
       "      <td>Documentary</td>\n",
       "      <td>50000.0</td>\n",
       "      <td>25.0</td>\n",
       "    </tr>\n",
       "    <tr>\n",
       "      <th>378657</th>\n",
       "      <td>The Tribe</td>\n",
       "      <td>Narrative Film</td>\n",
       "      <td>1500.0</td>\n",
       "      <td>155.0</td>\n",
       "    </tr>\n",
       "    <tr>\n",
       "      <th>378658</th>\n",
       "      <td>Walls of Remedy- New lesbian Romantic Comedy f...</td>\n",
       "      <td>Narrative Film</td>\n",
       "      <td>15000.0</td>\n",
       "      <td>20.0</td>\n",
       "    </tr>\n",
       "    <tr>\n",
       "      <th>378659</th>\n",
       "      <td>BioDefense Education Kit</td>\n",
       "      <td>Technology</td>\n",
       "      <td>15000.0</td>\n",
       "      <td>200.0</td>\n",
       "    </tr>\n",
       "    <tr>\n",
       "      <th>378660</th>\n",
       "      <td>Nou Renmen Ayiti!  We Love Haiti!</td>\n",
       "      <td>Performance Art</td>\n",
       "      <td>2000.0</td>\n",
       "      <td>524.0</td>\n",
       "    </tr>\n",
       "  </tbody>\n",
       "</table>\n",
       "<p>378661 rows × 4 columns</p>\n",
       "</div>"
      ],
      "text/plain": [
       "                                                     name         category  \\\n",
       "0                         The Songs of Adelaide & Abullah           Poetry   \n",
       "1           Greeting From Earth: ZGAC Arts Capsule For ET   Narrative Film   \n",
       "2                                          Where is Hank?   Narrative Film   \n",
       "3       ToshiCapital Rekordz Needs Help to Complete Album            Music   \n",
       "4       Community Film Project: The Art of Neighborhoo...     Film & Video   \n",
       "...                                                   ...              ...   \n",
       "378656  ChknTruk Nationwide Charity Drive 2014 (Canceled)      Documentary   \n",
       "378657                                          The Tribe   Narrative Film   \n",
       "378658  Walls of Remedy- New lesbian Romantic Comedy f...   Narrative Film   \n",
       "378659                           BioDefense Education Kit       Technology   \n",
       "378660                  Nou Renmen Ayiti!  We Love Haiti!  Performance Art   \n",
       "\n",
       "           goal  pledged  \n",
       "0        1000.0      0.0  \n",
       "1       30000.0   2421.0  \n",
       "2       45000.0    220.0  \n",
       "3        5000.0      1.0  \n",
       "4       19500.0   1283.0  \n",
       "...         ...      ...  \n",
       "378656  50000.0     25.0  \n",
       "378657   1500.0    155.0  \n",
       "378658  15000.0     20.0  \n",
       "378659  15000.0    200.0  \n",
       "378660   2000.0    524.0  \n",
       "\n",
       "[378661 rows x 4 columns]"
      ]
     },
     "execution_count": 13,
     "metadata": {},
     "output_type": "execute_result"
    }
   ],
   "source": [
    "col_data"
   ]
  },
  {
   "cell_type": "code",
   "execution_count": 14,
   "metadata": {},
   "outputs": [
    {
     "data": {
      "text/html": [
       "<div>\n",
       "<style>\n",
       "    .dataframe thead tr:only-child th {\n",
       "        text-align: right;\n",
       "    }\n",
       "\n",
       "    .dataframe thead th {\n",
       "        text-align: left;\n",
       "    }\n",
       "\n",
       "    .dataframe tbody tr th {\n",
       "        vertical-align: top;\n",
       "    }\n",
       "</style>\n",
       "<table border=\"1\" class=\"dataframe\">\n",
       "  <thead>\n",
       "    <tr style=\"text-align: right;\">\n",
       "      <th></th>\n",
       "      <th>backers</th>\n",
       "      <th>usd_pledged_real</th>\n",
       "      <th>usd_goal_real</th>\n",
       "    </tr>\n",
       "  </thead>\n",
       "  <tbody>\n",
       "    <tr>\n",
       "      <th>count</th>\n",
       "      <td>378661.000000</td>\n",
       "      <td>3.786610e+05</td>\n",
       "      <td>3.786610e+05</td>\n",
       "    </tr>\n",
       "    <tr>\n",
       "      <th>mean</th>\n",
       "      <td>105.617476</td>\n",
       "      <td>9.058924e+03</td>\n",
       "      <td>4.545440e+04</td>\n",
       "    </tr>\n",
       "    <tr>\n",
       "      <th>std</th>\n",
       "      <td>907.185035</td>\n",
       "      <td>9.097334e+04</td>\n",
       "      <td>1.152950e+06</td>\n",
       "    </tr>\n",
       "    <tr>\n",
       "      <th>min</th>\n",
       "      <td>0.000000</td>\n",
       "      <td>0.000000e+00</td>\n",
       "      <td>1.000000e-02</td>\n",
       "    </tr>\n",
       "    <tr>\n",
       "      <th>25%</th>\n",
       "      <td>2.000000</td>\n",
       "      <td>3.100000e+01</td>\n",
       "      <td>2.000000e+03</td>\n",
       "    </tr>\n",
       "    <tr>\n",
       "      <th>50%</th>\n",
       "      <td>12.000000</td>\n",
       "      <td>6.243300e+02</td>\n",
       "      <td>5.500000e+03</td>\n",
       "    </tr>\n",
       "    <tr>\n",
       "      <th>75%</th>\n",
       "      <td>56.000000</td>\n",
       "      <td>4.050000e+03</td>\n",
       "      <td>1.550000e+04</td>\n",
       "    </tr>\n",
       "    <tr>\n",
       "      <th>max</th>\n",
       "      <td>219382.000000</td>\n",
       "      <td>2.033899e+07</td>\n",
       "      <td>1.663614e+08</td>\n",
       "    </tr>\n",
       "  </tbody>\n",
       "</table>\n",
       "</div>"
      ],
      "text/plain": [
       "             backers  usd_pledged_real  usd_goal_real\n",
       "count  378661.000000      3.786610e+05   3.786610e+05\n",
       "mean      105.617476      9.058924e+03   4.545440e+04\n",
       "std       907.185035      9.097334e+04   1.152950e+06\n",
       "min         0.000000      0.000000e+00   1.000000e-02\n",
       "25%         2.000000      3.100000e+01   2.000000e+03\n",
       "50%        12.000000      6.243300e+02   5.500000e+03\n",
       "75%        56.000000      4.050000e+03   1.550000e+04\n",
       "max    219382.000000      2.033899e+07   1.663614e+08"
      ]
     },
     "execution_count": 14,
     "metadata": {},
     "output_type": "execute_result"
    }
   ],
   "source": [
    "values_col = [ 'backers', 'usd_pledged_real', 'usd_goal_real']\n",
    "values_data = data[values_col]\n",
    "values_data.describe()"
   ]
  },
  {
   "cell_type": "code",
   "execution_count": 15,
   "metadata": {
    "collapsed": true
   },
   "outputs": [],
   "source": [
    "plt.rc('figure', figsize=(15, 8))"
   ]
  },
  {
   "cell_type": "code",
   "execution_count": 16,
   "metadata": {},
   "outputs": [
    {
     "data": {
      "image/png": "[encoded data removed]",
      "text/plain": [
       "<matplotlib.figure.Figure at 0x2ca96b2cf98>"
      ]
     },
     "metadata": {},
     "output_type": "display_data"
    }
   ],
   "source": [
    "data['backers'].plot.hist(bins=50)\n",
    "show()"
   ]
  },
  {
   "cell_type": "code",
   "execution_count": 17,
   "metadata": {},
   "outputs": [
    {
     "data": {
      "image/png": "[encoded data removed]",
      "text/plain": [
       "<matplotlib.figure.Figure at 0x2ca8a2e7e80>"
      ]
     },
     "metadata": {},
     "output_type": "display_data"
    }
   ],
   "source": [
    "plt.plot(data['usd_pledged_real'])\n",
    "show()"
   ]
  },
  {
   "cell_type": "code",
   "execution_count": 18,
   "metadata": {},
   "outputs": [
    {
     "data": {
      "image/png": "[encoded data removed]",
      "text/plain": [
       "<matplotlib.figure.Figure at 0x2ca83f86470>"
      ]
     },
     "metadata": {},
     "output_type": "display_data"
    }
   ],
   "source": [
    "data['usd_pledged_real'].plot.hist(bins=10)\n",
    "show()"
   ]
  },
  {
   "cell_type": "markdown",
   "metadata": {},
   "source": [
    "## Value Validation"
   ]
  },
  {
   "cell_type": "code",
   "execution_count": 19,
   "metadata": {
    "collapsed": true
   },
   "outputs": [],
   "source": [
    "pd.options.display.max_rows = 20"
   ]
  },
  {
   "cell_type": "code",
   "execution_count": 20,
   "metadata": {},
   "outputs": [
    {
     "data": {
      "text/plain": [
       "Film & Video    63585\n",
       "Music           51918\n",
       "Publishing      39874\n",
       "Games           35231\n",
       "Technology      32569\n",
       "Design          30070\n",
       "Art             28153\n",
       "Food            24602\n",
       "Fashion         22816\n",
       "Theater         10913\n",
       "Comics          10819\n",
       "Photography     10779\n",
       "Crafts           8809\n",
       "Journalism       4755\n",
       "Dance            3768\n",
       "Name: main_category, dtype: int64"
      ]
     },
     "execution_count": 20,
     "metadata": {},
     "output_type": "execute_result"
    }
   ],
   "source": [
    "main_category = data['main_category']\n",
    "main_category.value_counts()"
   ]
  },
  {
   "cell_type": "code",
   "execution_count": 21,
   "metadata": {
    "collapsed": true
   },
   "outputs": [],
   "source": [
    "pd.options.display.max_rows = 160"
   ]
  },
  {
   "cell_type": "code",
   "execution_count": 22,
   "metadata": {},
   "outputs": [
    {
     "data": {
      "text/plain": [
       "Product Design        22314\n",
       "Documentary           16139\n",
       "Music                 15727\n",
       "Tabletop Games        14180\n",
       "Shorts                12357\n",
       "Video Games           11830\n",
       "Food                  11493\n",
       "Film & Video          10108\n",
       "Fiction                9169\n",
       "Fashion                8554\n",
       "Nonfiction             8318\n",
       "Art                    8253\n",
       "Apparel                7166\n",
       "Theater                7057\n",
       "Technology             6930\n",
       "Rock                   6758\n",
       "Children's Books       6756\n",
       "Apps                   6345\n",
       "Publishing             6018\n",
       "Webseries              5762\n",
       "Photography            5752\n",
       "Indie Rock             5657\n",
       "Narrative Film         5188\n",
       "Web                    5153\n",
       "Comics                 4996\n",
       "Crafts                 4664\n",
       "Country & Folk         4451\n",
       "Design                 4199\n",
       "Hip-Hop                3912\n",
       "Hardware               3663\n",
       "Pop                    3350\n",
       "Painting               3294\n",
       "Games                  3226\n",
       "Illustration           3175\n",
       "Accessories            3165\n",
       "Public Art             3077\n",
       "Software               3048\n",
       "Gadgets                2965\n",
       "Restaurants            2819\n",
       "Mixed Media            2757\n",
       "Comic Books            2743\n",
       "Art Books              2676\n",
       "Classical Music        2613\n",
       "Animation              2541\n",
       "Playing Cards          2497\n",
       "Drinks                 2422\n",
       "Dance                  2322\n",
       "Comedy                 2320\n",
       "Drama                  2179\n",
       "Electronic Music       2170\n",
       "Performance Art        2154\n",
       "World Music            2102\n",
       "Graphic Design         2002\n",
       "Graphic Novels         1864\n",
       "Jazz                   1850\n",
       "Sculpture              1810\n",
       "Small Batch            1808\n",
       "Mobile Games           1789\n",
       "Food Trucks            1752\n",
       "Journalism             1747\n",
       "Photobooks             1580\n",
       "Plays                  1378\n",
       "Poetry                 1369\n",
       "Digital Art            1346\n",
       "Horror                 1287\n",
       "Periodicals            1265\n",
       "Jewelry                1239\n",
       "Wearables              1233\n",
       "DIY                    1173\n",
       "Woodworking            1167\n",
       "Farms                  1154\n",
       "People                 1103\n",
       "Faith                  1092\n",
       "Live Games             1050\n",
       "Conceptual Art         1030\n",
       "Television             1015\n",
       "Performances           1013\n",
       "Footwear                931\n",
       "Experimental            924\n",
       "Radio & Podcasts        923\n",
       "Academic                916\n",
       "Musical                 913\n",
       "DIY Electronics         902\n",
       "Ready-to-wear           864\n",
       "Spaces                  841\n",
       "Festivals               839\n",
       "Young Adult             821\n",
       "Events                  818\n",
       "Anthologies             784\n",
       "Fine Art                776\n",
       "Architecture            760\n",
       "Thrillers               746\n",
       "Science Fiction         744\n",
       "Action                  740\n",
       "Places                  739\n",
       "Print                   727\n",
       "Metal                   717\n",
       "Music Videos            709\n",
       "3D Printing             683\n",
       "Sound                   669\n",
       "Webcomics               648\n",
       "Vegan                   588\n",
       "Nature                  574\n",
       "Robots                  572\n",
       "Cookbooks               540\n",
       "Childrenswear           483\n",
       "Installations           482\n",
       "R&B                     458\n",
       "Candles                 429\n",
       "Gaming Hardware         428\n",
       "Video                   428\n",
       "Flight                  426\n",
       "Farmer's Markets        424\n",
       "Camera Equipment        416\n",
       "Audio                   410\n",
       "Interactive Design      398\n",
       "Zines                   391\n",
       "Fantasy                 345\n",
       "Family                  336\n",
       "Immersive               330\n",
       "Calendars               329\n",
       "Space Exploration       323\n",
       "Punk                    317\n",
       "Ceramics                305\n",
       "Community Gardens       298\n",
       "Civic Design            289\n",
       "Kids                    285\n",
       "Literary Journals       278\n",
       "Textiles                276\n",
       "Couture                 275\n",
       "Blues                   268\n",
       "Animals                 255\n",
       "Fabrication Tools       250\n",
       "Printing                238\n",
       "Makerspaces             238\n",
       "Movie Theaters          232\n",
       "Puzzles                 231\n",
       "Bacon                   221\n",
       "Stationery              219\n",
       "Photo                   196\n",
       "Video Art               194\n",
       "Romance                 190\n",
       "Knitting                181\n",
       "Workshops               164\n",
       "Crochet                 162\n",
       "Translations            153\n",
       "Pet Fashion             139\n",
       "Glass                   138\n",
       "Latin                   137\n",
       "Embroidery              113\n",
       "Typography              108\n",
       "Pottery                 100\n",
       "Weaving                  93\n",
       "Quilts                   81\n",
       "Residencies              69\n",
       "Letterpress              49\n",
       "Chiptune                 35\n",
       "Literary Spaces          27\n",
       "Taxidermy                13\n",
       "Name: category, dtype: int64"
      ]
     },
     "execution_count": 22,
     "metadata": {},
     "output_type": "execute_result"
    }
   ],
   "source": [
    "category = data['category']\n",
    "category.value_counts()"
   ]
  },
  {
   "cell_type": "code",
   "execution_count": 23,
   "metadata": {},
   "outputs": [
    {
     "data": {
      "text/plain": [
       "failed        197719\n",
       "successful    133956\n",
       "canceled       38779\n",
       "undefined       3562\n",
       "live            2799\n",
       "suspended       1846\n",
       "Name: state, dtype: int64"
      ]
     },
     "execution_count": 23,
     "metadata": {},
     "output_type": "execute_result"
    }
   ],
   "source": [
    "state = data['state']\n",
    "state_count = state.value_counts()\n",
    "state_count"
   ]
  },
  {
   "cell_type": "code",
   "execution_count": 24,
   "metadata": {
    "collapsed": true
   },
   "outputs": [],
   "source": [
    "state_per = state_count / len(data)"
   ]
  },
  {
   "cell_type": "code",
   "execution_count": 25,
   "metadata": {},
   "outputs": [
    {
     "data": {
      "image/png": "[encoded data removed]",
      "text/plain": [
       "<matplotlib.figure.Figure at 0x2ca8a3a7080>"
      ]
     },
     "metadata": {},
     "output_type": "display_data"
    }
   ],
   "source": [
    "state_per.plot(kind='bar')\n",
    "show()"
   ]
  },
  {
   "cell_type": "code",
   "execution_count": 26,
   "metadata": {
    "collapsed": true
   },
   "outputs": [],
   "source": [
    "pd.options.display.max_rows = 10"
   ]
  },
  {
   "cell_type": "code",
   "execution_count": 27,
   "metadata": {},
   "outputs": [
    {
     "data": {
      "text/html": [
       "<div>\n",
       "<style>\n",
       "    .dataframe thead tr:only-child th {\n",
       "        text-align: right;\n",
       "    }\n",
       "\n",
       "    .dataframe thead th {\n",
       "        text-align: left;\n",
       "    }\n",
       "\n",
       "    .dataframe tbody tr th {\n",
       "        vertical-align: top;\n",
       "    }\n",
       "</style>\n",
       "<table border=\"1\" class=\"dataframe\">\n",
       "  <thead>\n",
       "    <tr style=\"text-align: right;\">\n",
       "      <th></th>\n",
       "      <th>ID</th>\n",
       "      <th>name</th>\n",
       "      <th>category</th>\n",
       "      <th>main_category</th>\n",
       "      <th>currency</th>\n",
       "      <th>deadline</th>\n",
       "      <th>goal</th>\n",
       "      <th>launched</th>\n",
       "      <th>pledged</th>\n",
       "      <th>state</th>\n",
       "      <th>backers</th>\n",
       "      <th>country</th>\n",
       "      <th>usd pledged</th>\n",
       "      <th>usd_pledged_real</th>\n",
       "      <th>usd_goal_real</th>\n",
       "    </tr>\n",
       "  </thead>\n",
       "  <tbody>\n",
       "    <tr>\n",
       "      <th>4</th>\n",
       "      <td>1000011046</td>\n",
       "      <td>Community Film Project: The Art of Neighborhoo...</td>\n",
       "      <td>Film &amp; Video</td>\n",
       "      <td>Film &amp; Video</td>\n",
       "      <td>USD</td>\n",
       "      <td>2015-08-29</td>\n",
       "      <td>19500.0</td>\n",
       "      <td>2015-07-04 08:35:03</td>\n",
       "      <td>1283.00</td>\n",
       "      <td>canceled</td>\n",
       "      <td>14</td>\n",
       "      <td>US</td>\n",
       "      <td>1283.00</td>\n",
       "      <td>1283.00</td>\n",
       "      <td>19500.00</td>\n",
       "    </tr>\n",
       "    <tr>\n",
       "      <th>8</th>\n",
       "      <td>1000034518</td>\n",
       "      <td>SPIN - Premium Retractable In-Ear Headphones w...</td>\n",
       "      <td>Product Design</td>\n",
       "      <td>Design</td>\n",
       "      <td>USD</td>\n",
       "      <td>2014-05-29</td>\n",
       "      <td>125000.0</td>\n",
       "      <td>2014-04-24 18:14:43</td>\n",
       "      <td>8233.00</td>\n",
       "      <td>canceled</td>\n",
       "      <td>58</td>\n",
       "      <td>US</td>\n",
       "      <td>8233.00</td>\n",
       "      <td>8233.00</td>\n",
       "      <td>125000.00</td>\n",
       "    </tr>\n",
       "    <tr>\n",
       "      <th>9</th>\n",
       "      <td>100004195</td>\n",
       "      <td>STUDIO IN THE SKY - A Documentary Feature Film...</td>\n",
       "      <td>Documentary</td>\n",
       "      <td>Film &amp; Video</td>\n",
       "      <td>USD</td>\n",
       "      <td>2014-08-10</td>\n",
       "      <td>65000.0</td>\n",
       "      <td>2014-07-11 21:55:48</td>\n",
       "      <td>6240.57</td>\n",
       "      <td>canceled</td>\n",
       "      <td>43</td>\n",
       "      <td>US</td>\n",
       "      <td>6240.57</td>\n",
       "      <td>6240.57</td>\n",
       "      <td>65000.00</td>\n",
       "    </tr>\n",
       "    <tr>\n",
       "      <th>68</th>\n",
       "      <td>1000256760</td>\n",
       "      <td>Raise the Woof, expanding the love (Canceled)</td>\n",
       "      <td>Design</td>\n",
       "      <td>Design</td>\n",
       "      <td>CAD</td>\n",
       "      <td>2015-08-07</td>\n",
       "      <td>15000.0</td>\n",
       "      <td>2015-07-08 21:46:53</td>\n",
       "      <td>700.00</td>\n",
       "      <td>canceled</td>\n",
       "      <td>6</td>\n",
       "      <td>CA</td>\n",
       "      <td>553.32</td>\n",
       "      <td>535.09</td>\n",
       "      <td>11466.14</td>\n",
       "    </tr>\n",
       "    <tr>\n",
       "      <th>70</th>\n",
       "      <td>1000260691</td>\n",
       "      <td>Gizbee™ Unlimited Removable Storage for Your T...</td>\n",
       "      <td>Gadgets</td>\n",
       "      <td>Technology</td>\n",
       "      <td>USD</td>\n",
       "      <td>2016-03-25</td>\n",
       "      <td>87000.0</td>\n",
       "      <td>2016-02-29 20:30:27</td>\n",
       "      <td>2030.00</td>\n",
       "      <td>canceled</td>\n",
       "      <td>15</td>\n",
       "      <td>US</td>\n",
       "      <td>2030.00</td>\n",
       "      <td>2030.00</td>\n",
       "      <td>87000.00</td>\n",
       "    </tr>\n",
       "    <tr>\n",
       "      <th>...</th>\n",
       "      <td>...</td>\n",
       "      <td>...</td>\n",
       "      <td>...</td>\n",
       "      <td>...</td>\n",
       "      <td>...</td>\n",
       "      <td>...</td>\n",
       "      <td>...</td>\n",
       "      <td>...</td>\n",
       "      <td>...</td>\n",
       "      <td>...</td>\n",
       "      <td>...</td>\n",
       "      <td>...</td>\n",
       "      <td>...</td>\n",
       "      <td>...</td>\n",
       "      <td>...</td>\n",
       "    </tr>\n",
       "    <tr>\n",
       "      <th>378640</th>\n",
       "      <td>999893629</td>\n",
       "      <td>Ciridian Helix (Canceled)</td>\n",
       "      <td>Fiction</td>\n",
       "      <td>Publishing</td>\n",
       "      <td>USD</td>\n",
       "      <td>2014-09-11</td>\n",
       "      <td>1000.0</td>\n",
       "      <td>2014-08-08 21:49:31</td>\n",
       "      <td>100.00</td>\n",
       "      <td>canceled</td>\n",
       "      <td>2</td>\n",
       "      <td>US</td>\n",
       "      <td>100.00</td>\n",
       "      <td>100.00</td>\n",
       "      <td>1000.00</td>\n",
       "    </tr>\n",
       "    <tr>\n",
       "      <th>378643</th>\n",
       "      <td>999931480</td>\n",
       "      <td>Google Glass Shield (Canceled)</td>\n",
       "      <td>3D Printing</td>\n",
       "      <td>Technology</td>\n",
       "      <td>USD</td>\n",
       "      <td>2014-05-26</td>\n",
       "      <td>6500.0</td>\n",
       "      <td>2014-05-05 20:22:45</td>\n",
       "      <td>0.00</td>\n",
       "      <td>canceled</td>\n",
       "      <td>0</td>\n",
       "      <td>US</td>\n",
       "      <td>0.00</td>\n",
       "      <td>0.00</td>\n",
       "      <td>6500.00</td>\n",
       "    </tr>\n",
       "    <tr>\n",
       "      <th>378648</th>\n",
       "      <td>999955533</td>\n",
       "      <td>Cards and Chit Network Season 2! (Canceled)</td>\n",
       "      <td>Tabletop Games</td>\n",
       "      <td>Games</td>\n",
       "      <td>USD</td>\n",
       "      <td>2016-02-23</td>\n",
       "      <td>500.0</td>\n",
       "      <td>2016-01-24 16:03:27</td>\n",
       "      <td>121.00</td>\n",
       "      <td>canceled</td>\n",
       "      <td>5</td>\n",
       "      <td>US</td>\n",
       "      <td>121.00</td>\n",
       "      <td>121.00</td>\n",
       "      <td>500.00</td>\n",
       "    </tr>\n",
       "    <tr>\n",
       "      <th>378655</th>\n",
       "      <td>999976312</td>\n",
       "      <td>Angela's Poetry (Canceled)</td>\n",
       "      <td>Poetry</td>\n",
       "      <td>Publishing</td>\n",
       "      <td>CAD</td>\n",
       "      <td>2014-09-20</td>\n",
       "      <td>5500.0</td>\n",
       "      <td>2014-08-06 03:46:07</td>\n",
       "      <td>0.00</td>\n",
       "      <td>canceled</td>\n",
       "      <td>0</td>\n",
       "      <td>CA</td>\n",
       "      <td>0.00</td>\n",
       "      <td>0.00</td>\n",
       "      <td>4949.60</td>\n",
       "    </tr>\n",
       "    <tr>\n",
       "      <th>378656</th>\n",
       "      <td>999976400</td>\n",
       "      <td>ChknTruk Nationwide Charity Drive 2014 (Canceled)</td>\n",
       "      <td>Documentary</td>\n",
       "      <td>Film &amp; Video</td>\n",
       "      <td>USD</td>\n",
       "      <td>2014-10-17</td>\n",
       "      <td>50000.0</td>\n",
       "      <td>2014-09-17 02:35:30</td>\n",
       "      <td>25.00</td>\n",
       "      <td>canceled</td>\n",
       "      <td>1</td>\n",
       "      <td>US</td>\n",
       "      <td>25.00</td>\n",
       "      <td>25.00</td>\n",
       "      <td>50000.00</td>\n",
       "    </tr>\n",
       "  </tbody>\n",
       "</table>\n",
       "<p>38779 rows × 15 columns</p>\n",
       "</div>"
      ],
      "text/plain": [
       "                ID                                               name  \\\n",
       "4       1000011046  Community Film Project: The Art of Neighborhoo...   \n",
       "8       1000034518  SPIN - Premium Retractable In-Ear Headphones w...   \n",
       "9        100004195  STUDIO IN THE SKY - A Documentary Feature Film...   \n",
       "68      1000256760      Raise the Woof, expanding the love (Canceled)   \n",
       "70      1000260691  Gizbee™ Unlimited Removable Storage for Your T...   \n",
       "...            ...                                                ...   \n",
       "378640   999893629                          Ciridian Helix (Canceled)   \n",
       "378643   999931480                     Google Glass Shield (Canceled)   \n",
       "378648   999955533        Cards and Chit Network Season 2! (Canceled)   \n",
       "378655   999976312                         Angela's Poetry (Canceled)   \n",
       "378656   999976400  ChknTruk Nationwide Charity Drive 2014 (Canceled)   \n",
       "\n",
       "              category main_category currency    deadline      goal  \\\n",
       "4         Film & Video  Film & Video      USD  2015-08-29   19500.0   \n",
       "8       Product Design        Design      USD  2014-05-29  125000.0   \n",
       "9          Documentary  Film & Video      USD  2014-08-10   65000.0   \n",
       "68              Design        Design      CAD  2015-08-07   15000.0   \n",
       "70             Gadgets    Technology      USD  2016-03-25   87000.0   \n",
       "...                ...           ...      ...         ...       ...   \n",
       "378640         Fiction    Publishing      USD  2014-09-11    1000.0   \n",
       "378643     3D Printing    Technology      USD  2014-05-26    6500.0   \n",
       "378648  Tabletop Games         Games      USD  2016-02-23     500.0   \n",
       "378655          Poetry    Publishing      CAD  2014-09-20    5500.0   \n",
       "378656     Documentary  Film & Video      USD  2014-10-17   50000.0   \n",
       "\n",
       "                   launched  pledged     state  backers country  usd pledged  \\\n",
       "4       2015-07-04 08:35:03  1283.00  canceled       14      US      1283.00   \n",
       "8       2014-04-24 18:14:43  8233.00  canceled       58      US      8233.00   \n",
       "9       2014-07-11 21:55:48  6240.57  canceled       43      US      6240.57   \n",
       "68      2015-07-08 21:46:53   700.00  canceled        6      CA       553.32   \n",
       "70      2016-02-29 20:30:27  2030.00  canceled       15      US      2030.00   \n",
       "...                     ...      ...       ...      ...     ...          ...   \n",
       "378640  2014-08-08 21:49:31   100.00  canceled        2      US       100.00   \n",
       "378643  2014-05-05 20:22:45     0.00  canceled        0      US         0.00   \n",
       "378648  2016-01-24 16:03:27   121.00  canceled        5      US       121.00   \n",
       "378655  2014-08-06 03:46:07     0.00  canceled        0      CA         0.00   \n",
       "378656  2014-09-17 02:35:30    25.00  canceled        1      US        25.00   \n",
       "\n",
       "        usd_pledged_real  usd_goal_real  \n",
       "4                1283.00       19500.00  \n",
       "8                8233.00      125000.00  \n",
       "9                6240.57       65000.00  \n",
       "68                535.09       11466.14  \n",
       "70               2030.00       87000.00  \n",
       "...                  ...            ...  \n",
       "378640            100.00        1000.00  \n",
       "378643              0.00        6500.00  \n",
       "378648            121.00         500.00  \n",
       "378655              0.00        4949.60  \n",
       "378656             25.00       50000.00  \n",
       "\n",
       "[38779 rows x 15 columns]"
      ]
     },
     "execution_count": 27,
     "metadata": {},
     "output_type": "execute_result"
    }
   ],
   "source": [
    "s_can = data[data.state == 'canceled']\n",
    "s_can"
   ]
  },
  {
   "cell_type": "code",
   "execution_count": 28,
   "metadata": {},
   "outputs": [
    {
     "name": "stderr",
     "output_type": "stream",
     "text": [
      "C:\\Users\\Jimena\\Anaconda3\\lib\\site-packages\\ipykernel_launcher.py:1: UserWarning: Boolean Series key will be reindexed to match DataFrame index.\n",
      "  \"\"\"Entry point for launching an IPython kernel.\n"
     ]
    },
    {
     "data": {
      "text/html": [
       "<div>\n",
       "<style>\n",
       "    .dataframe thead tr:only-child th {\n",
       "        text-align: right;\n",
       "    }\n",
       "\n",
       "    .dataframe thead th {\n",
       "        text-align: left;\n",
       "    }\n",
       "\n",
       "    .dataframe tbody tr th {\n",
       "        vertical-align: top;\n",
       "    }\n",
       "</style>\n",
       "<table border=\"1\" class=\"dataframe\">\n",
       "  <thead>\n",
       "    <tr style=\"text-align: right;\">\n",
       "      <th></th>\n",
       "      <th>ID</th>\n",
       "      <th>name</th>\n",
       "      <th>category</th>\n",
       "      <th>main_category</th>\n",
       "      <th>currency</th>\n",
       "      <th>deadline</th>\n",
       "      <th>goal</th>\n",
       "      <th>launched</th>\n",
       "      <th>pledged</th>\n",
       "      <th>state</th>\n",
       "      <th>backers</th>\n",
       "      <th>country</th>\n",
       "      <th>usd pledged</th>\n",
       "      <th>usd_pledged_real</th>\n",
       "      <th>usd_goal_real</th>\n",
       "    </tr>\n",
       "  </thead>\n",
       "  <tbody>\n",
       "    <tr>\n",
       "      <th>494</th>\n",
       "      <td>1002379225</td>\n",
       "      <td>The World's First Genuine, Intuitively-control...</td>\n",
       "      <td>Technology</td>\n",
       "      <td>Technology</td>\n",
       "      <td>USD</td>\n",
       "      <td>2017-06-15</td>\n",
       "      <td>5000.0</td>\n",
       "      <td>2017-05-01 18:37:51</td>\n",
       "      <td>61416.0</td>\n",
       "      <td>canceled</td>\n",
       "      <td>103</td>\n",
       "      <td>US</td>\n",
       "      <td>13700.00</td>\n",
       "      <td>61416.00</td>\n",
       "      <td>5000.00</td>\n",
       "    </tr>\n",
       "    <tr>\n",
       "      <th>590</th>\n",
       "      <td>1002854072</td>\n",
       "      <td>Spycup turns your iPhone into a hidden camera ...</td>\n",
       "      <td>Gadgets</td>\n",
       "      <td>Technology</td>\n",
       "      <td>CAD</td>\n",
       "      <td>2015-12-19</td>\n",
       "      <td>5000.0</td>\n",
       "      <td>2015-11-19 17:26:34</td>\n",
       "      <td>6672.0</td>\n",
       "      <td>canceled</td>\n",
       "      <td>115</td>\n",
       "      <td>CA</td>\n",
       "      <td>5006.57</td>\n",
       "      <td>4810.38</td>\n",
       "      <td>3604.90</td>\n",
       "    </tr>\n",
       "    <tr>\n",
       "      <th>720</th>\n",
       "      <td>1003500859</td>\n",
       "      <td>I Can't Believe It's Not Potato Salad ! (Cance...</td>\n",
       "      <td>Cookbooks</td>\n",
       "      <td>Food</td>\n",
       "      <td>GBP</td>\n",
       "      <td>2014-08-10</td>\n",
       "      <td>10.0</td>\n",
       "      <td>2014-07-11 13:35:05</td>\n",
       "      <td>12.0</td>\n",
       "      <td>canceled</td>\n",
       "      <td>3</td>\n",
       "      <td>GB</td>\n",
       "      <td>20.59</td>\n",
       "      <td>20.03</td>\n",
       "      <td>16.69</td>\n",
       "    </tr>\n",
       "    <tr>\n",
       "      <th>764</th>\n",
       "      <td>100372771</td>\n",
       "      <td>A Big Dream of a Little Man - Alex Oddman's De...</td>\n",
       "      <td>Music</td>\n",
       "      <td>Music</td>\n",
       "      <td>USD</td>\n",
       "      <td>2017-01-19</td>\n",
       "      <td>1.0</td>\n",
       "      <td>2016-12-20 22:01:21</td>\n",
       "      <td>7.0</td>\n",
       "      <td>canceled</td>\n",
       "      <td>1</td>\n",
       "      <td>US</td>\n",
       "      <td>7.00</td>\n",
       "      <td>7.00</td>\n",
       "      <td>1.00</td>\n",
       "    </tr>\n",
       "    <tr>\n",
       "      <th>1810</th>\n",
       "      <td>1009260867</td>\n",
       "      <td>Rude Story Cards. An easy, fun &amp; outrageous pa...</td>\n",
       "      <td>Tabletop Games</td>\n",
       "      <td>Games</td>\n",
       "      <td>CAD</td>\n",
       "      <td>2016-10-14</td>\n",
       "      <td>100.0</td>\n",
       "      <td>2016-08-15 19:16:59</td>\n",
       "      <td>121.0</td>\n",
       "      <td>canceled</td>\n",
       "      <td>4</td>\n",
       "      <td>CA</td>\n",
       "      <td>165.99</td>\n",
       "      <td>91.90</td>\n",
       "      <td>75.95</td>\n",
       "    </tr>\n",
       "    <tr>\n",
       "      <th>...</th>\n",
       "      <td>...</td>\n",
       "      <td>...</td>\n",
       "      <td>...</td>\n",
       "      <td>...</td>\n",
       "      <td>...</td>\n",
       "      <td>...</td>\n",
       "      <td>...</td>\n",
       "      <td>...</td>\n",
       "      <td>...</td>\n",
       "      <td>...</td>\n",
       "      <td>...</td>\n",
       "      <td>...</td>\n",
       "      <td>...</td>\n",
       "      <td>...</td>\n",
       "      <td>...</td>\n",
       "    </tr>\n",
       "    <tr>\n",
       "      <th>375023</th>\n",
       "      <td>981146646</td>\n",
       "      <td>Dollar Bill Origami (Canceled)</td>\n",
       "      <td>Art</td>\n",
       "      <td>Art</td>\n",
       "      <td>USD</td>\n",
       "      <td>2015-02-14</td>\n",
       "      <td>20.0</td>\n",
       "      <td>2015-01-15 02:41:13</td>\n",
       "      <td>22.0</td>\n",
       "      <td>canceled</td>\n",
       "      <td>3</td>\n",
       "      <td>US</td>\n",
       "      <td>22.00</td>\n",
       "      <td>22.00</td>\n",
       "      <td>20.00</td>\n",
       "    </tr>\n",
       "    <tr>\n",
       "      <th>375028</th>\n",
       "      <td>981182186</td>\n",
       "      <td>Save the Ramzi (Canceled)</td>\n",
       "      <td>Music</td>\n",
       "      <td>Music</td>\n",
       "      <td>USD</td>\n",
       "      <td>2009-06-15</td>\n",
       "      <td>1000.0</td>\n",
       "      <td>2009-05-14 22:27:25</td>\n",
       "      <td>1190.0</td>\n",
       "      <td>canceled</td>\n",
       "      <td>18</td>\n",
       "      <td>US</td>\n",
       "      <td>1190.00</td>\n",
       "      <td>1190.00</td>\n",
       "      <td>1000.00</td>\n",
       "    </tr>\n",
       "    <tr>\n",
       "      <th>377695</th>\n",
       "      <td>995225156</td>\n",
       "      <td>The World's First Multifunctional Urban Jacket...</td>\n",
       "      <td>Product Design</td>\n",
       "      <td>Design</td>\n",
       "      <td>EUR</td>\n",
       "      <td>2016-08-13</td>\n",
       "      <td>23000.0</td>\n",
       "      <td>2016-06-21 10:03:37</td>\n",
       "      <td>23192.0</td>\n",
       "      <td>canceled</td>\n",
       "      <td>74</td>\n",
       "      <td>IT</td>\n",
       "      <td>26339.01</td>\n",
       "      <td>26267.39</td>\n",
       "      <td>26049.93</td>\n",
       "    </tr>\n",
       "    <tr>\n",
       "      <th>378094</th>\n",
       "      <td>997338128</td>\n",
       "      <td>CAPTAINS TABLE: A Pirate Themed Card Game (Can...</td>\n",
       "      <td>Tabletop Games</td>\n",
       "      <td>Games</td>\n",
       "      <td>USD</td>\n",
       "      <td>2015-05-18</td>\n",
       "      <td>165.0</td>\n",
       "      <td>2015-04-10 18:08:19</td>\n",
       "      <td>374.0</td>\n",
       "      <td>canceled</td>\n",
       "      <td>15</td>\n",
       "      <td>US</td>\n",
       "      <td>374.00</td>\n",
       "      <td>374.00</td>\n",
       "      <td>165.00</td>\n",
       "    </tr>\n",
       "    <tr>\n",
       "      <th>378114</th>\n",
       "      <td>997445060</td>\n",
       "      <td>The Every Day Carry Sling Belt (Canceled)</td>\n",
       "      <td>Fashion</td>\n",
       "      <td>Fashion</td>\n",
       "      <td>USD</td>\n",
       "      <td>2012-05-28</td>\n",
       "      <td>1000.0</td>\n",
       "      <td>2012-04-28 07:12:06</td>\n",
       "      <td>1358.0</td>\n",
       "      <td>canceled</td>\n",
       "      <td>35</td>\n",
       "      <td>US</td>\n",
       "      <td>1358.00</td>\n",
       "      <td>1358.00</td>\n",
       "      <td>1000.00</td>\n",
       "    </tr>\n",
       "  </tbody>\n",
       "</table>\n",
       "<p>650 rows × 15 columns</p>\n",
       "</div>"
      ],
      "text/plain": [
       "                ID                                               name  \\\n",
       "494     1002379225  The World's First Genuine, Intuitively-control...   \n",
       "590     1002854072  Spycup turns your iPhone into a hidden camera ...   \n",
       "720     1003500859  I Can't Believe It's Not Potato Salad ! (Cance...   \n",
       "764      100372771  A Big Dream of a Little Man - Alex Oddman's De...   \n",
       "1810    1009260867  Rude Story Cards. An easy, fun & outrageous pa...   \n",
       "...            ...                                                ...   \n",
       "375023   981146646                     Dollar Bill Origami (Canceled)   \n",
       "375028   981182186                          Save the Ramzi (Canceled)   \n",
       "377695   995225156  The World's First Multifunctional Urban Jacket...   \n",
       "378094   997338128  CAPTAINS TABLE: A Pirate Themed Card Game (Can...   \n",
       "378114   997445060          The Every Day Carry Sling Belt (Canceled)   \n",
       "\n",
       "              category main_category currency    deadline     goal  \\\n",
       "494         Technology    Technology      USD  2017-06-15   5000.0   \n",
       "590            Gadgets    Technology      CAD  2015-12-19   5000.0   \n",
       "720          Cookbooks          Food      GBP  2014-08-10     10.0   \n",
       "764              Music         Music      USD  2017-01-19      1.0   \n",
       "1810    Tabletop Games         Games      CAD  2016-10-14    100.0   \n",
       "...                ...           ...      ...         ...      ...   \n",
       "375023             Art           Art      USD  2015-02-14     20.0   \n",
       "375028           Music         Music      USD  2009-06-15   1000.0   \n",
       "377695  Product Design        Design      EUR  2016-08-13  23000.0   \n",
       "378094  Tabletop Games         Games      USD  2015-05-18    165.0   \n",
       "378114         Fashion       Fashion      USD  2012-05-28   1000.0   \n",
       "\n",
       "                   launched  pledged     state  backers country  usd pledged  \\\n",
       "494     2017-05-01 18:37:51  61416.0  canceled      103      US     13700.00   \n",
       "590     2015-11-19 17:26:34   6672.0  canceled      115      CA      5006.57   \n",
       "720     2014-07-11 13:35:05     12.0  canceled        3      GB        20.59   \n",
       "764     2016-12-20 22:01:21      7.0  canceled        1      US         7.00   \n",
       "1810    2016-08-15 19:16:59    121.0  canceled        4      CA       165.99   \n",
       "...                     ...      ...       ...      ...     ...          ...   \n",
       "375023  2015-01-15 02:41:13     22.0  canceled        3      US        22.00   \n",
       "375028  2009-05-14 22:27:25   1190.0  canceled       18      US      1190.00   \n",
       "377695  2016-06-21 10:03:37  23192.0  canceled       74      IT     26339.01   \n",
       "378094  2015-04-10 18:08:19    374.0  canceled       15      US       374.00   \n",
       "378114  2012-04-28 07:12:06   1358.0  canceled       35      US      1358.00   \n",
       "\n",
       "        usd_pledged_real  usd_goal_real  \n",
       "494             61416.00        5000.00  \n",
       "590              4810.38        3604.90  \n",
       "720                20.03          16.69  \n",
       "764                 7.00           1.00  \n",
       "1810               91.90          75.95  \n",
       "...                  ...            ...  \n",
       "375023             22.00          20.00  \n",
       "375028           1190.00        1000.00  \n",
       "377695          26267.39       26049.93  \n",
       "378094            374.00         165.00  \n",
       "378114           1358.00        1000.00  \n",
       "\n",
       "[650 rows x 15 columns]"
      ]
     },
     "execution_count": 28,
     "metadata": {},
     "output_type": "execute_result"
    }
   ],
   "source": [
    "s_can[data.pledged > data.goal]"
   ]
  },
  {
   "cell_type": "markdown",
   "metadata": {},
   "source": [
    "There are 650 projects which pledged more than goal. Technically they are succesful. It's a 1.7% of the total."
   ]
  },
  {
   "cell_type": "code",
   "execution_count": 29,
   "metadata": {},
   "outputs": [
    {
     "data": {
      "text/plain": [
       "USD    295365\n",
       "GBP     34132\n",
       "EUR     17405\n",
       "CAD     14962\n",
       "AUD      7950\n",
       "        ...  \n",
       "CHF       768\n",
       "NOK       722\n",
       "HKD       618\n",
       "SGD       555\n",
       "JPY        40\n",
       "Name: currency, Length: 14, dtype: int64"
      ]
     },
     "execution_count": 29,
     "metadata": {},
     "output_type": "execute_result"
    }
   ],
   "source": [
    "currency = data['currency']\n",
    "currency_count = currency.value_counts()\n",
    "currency_count"
   ]
  },
  {
   "cell_type": "code",
   "execution_count": 30,
   "metadata": {
    "scrolled": true
   },
   "outputs": [
    {
     "data": {
      "text/plain": [
       "US    292627\n",
       "GB     33672\n",
       "CA     14756\n",
       "AU      7839\n",
       "DE      4171\n",
       "       ...  \n",
       "BE       617\n",
       "AT       597\n",
       "SG       555\n",
       "LU        62\n",
       "JP        40\n",
       "Name: country, Length: 23, dtype: int64"
      ]
     },
     "execution_count": 30,
     "metadata": {},
     "output_type": "execute_result"
    }
   ],
   "source": [
    "country = data['country']\n",
    "country_count = country.value_counts()\n",
    "country_count"
   ]
  },
  {
   "cell_type": "markdown",
   "metadata": {},
   "source": [
    "There is a corrupt value for country N,0\" with 3797 rows."
   ]
  },
  {
   "cell_type": "code",
   "execution_count": 31,
   "metadata": {},
   "outputs": [
    {
     "data": {
      "text/plain": [
       "array(['USD', 'AUD', 'CAD', 'GBP', 'EUR', 'SEK', 'DKK', 'NZD', 'NOK', 'CHF'], dtype=object)"
      ]
     },
     "execution_count": 31,
     "metadata": {},
     "output_type": "execute_result"
    }
   ],
   "source": [
    "x = data.country == 'N,0\"'\n",
    "N0country = data[x]\n",
    "N0country_curr = N0country['currency']\n",
    "N0country_curr.unique()"
   ]
  },
  {
   "cell_type": "markdown",
   "metadata": {},
   "source": [
    "There are several currencies for N,0\" country values so we cannot deduce which country might be N,0\".\n",
    "We will drop these values."
   ]
  },
  {
   "cell_type": "code",
   "execution_count": 32,
   "metadata": {},
   "outputs": [
    {
     "name": "stdout",
     "output_type": "stream",
     "text": [
      "['GB' 'US' 'CA' 'AU' 'NO' 'IT' 'DE' 'IE' 'MX' 'ES' 'SE' 'FR' 'NL' 'NZ' 'CH'\n",
      " 'AT' 'DK' 'BE' 'HK' 'LU' 'SG' 'JP']\n",
      "<class 'pandas.core.frame.DataFrame'>\n",
      "Int64Index: 374864 entries, 0 to 378660\n",
      "Data columns (total 15 columns):\n",
      "ID                  374864 non-null int64\n",
      "name                374860 non-null object\n",
      "category            374864 non-null object\n",
      "main_category       374864 non-null object\n",
      "currency            374864 non-null object\n",
      "deadline            374864 non-null object\n",
      "goal                374864 non-null float64\n",
      "launched            374864 non-null object\n",
      "pledged             374864 non-null float64\n",
      "state               374864 non-null object\n",
      "backers             374864 non-null int64\n",
      "country             374864 non-null object\n",
      "usd pledged         374864 non-null float64\n",
      "usd_pledged_real    374864 non-null float64\n",
      "usd_goal_real       374864 non-null float64\n",
      "dtypes: float64(5), int64(2), object(8)\n",
      "memory usage: 45.8+ MB\n"
     ]
    }
   ],
   "source": [
    "data = data[data.country != 'N,0\"']\n",
    "data_country = data.country\n",
    "print(data_country.unique())\n",
    "data.info()"
   ]
  },
  {
   "cell_type": "markdown",
   "metadata": {},
   "source": [
    "## Data transformation"
   ]
  },
  {
   "cell_type": "code",
   "execution_count": 33,
   "metadata": {
    "collapsed": true
   },
   "outputs": [],
   "source": [
    "data['deadline'] = pd.to_datetime(data.deadline, errors='coerce', dayfirst=False, yearfirst=False, utc=None, box=False, format=None, exact=True, unit=None, infer_datetime_format=False, origin='unix')"
   ]
  },
  {
   "cell_type": "code",
   "execution_count": 34,
   "metadata": {
    "collapsed": true
   },
   "outputs": [],
   "source": [
    "data['launched'] = pd.to_datetime(data.launched, errors='coerce', dayfirst=False, yearfirst=False, utc=None, box=False, format=None, exact=True, unit=None, infer_datetime_format=False, origin='unix')"
   ]
  },
  {
   "cell_type": "code",
   "execution_count": 35,
   "metadata": {},
   "outputs": [
    {
     "name": "stdout",
     "output_type": "stream",
     "text": [
      "<class 'pandas.core.frame.DataFrame'>\n",
      "Int64Index: 374864 entries, 0 to 378660\n",
      "Data columns (total 15 columns):\n",
      "ID                  374864 non-null int64\n",
      "name                374860 non-null object\n",
      "category            374864 non-null object\n",
      "main_category       374864 non-null object\n",
      "currency            374864 non-null object\n",
      "deadline            374864 non-null datetime64[ns]\n",
      "goal                374864 non-null float64\n",
      "launched            374864 non-null datetime64[ns]\n",
      "pledged             374864 non-null float64\n",
      "state               374864 non-null object\n",
      "backers             374864 non-null int64\n",
      "country             374864 non-null object\n",
      "usd pledged         374864 non-null float64\n",
      "usd_pledged_real    374864 non-null float64\n",
      "usd_goal_real       374864 non-null float64\n",
      "dtypes: datetime64[ns](2), float64(5), int64(2), object(6)\n",
      "memory usage: 45.8+ MB\n"
     ]
    }
   ],
   "source": [
    "data.info()"
   ]
  },
  {
   "cell_type": "markdown",
   "metadata": {},
   "source": [
    "## Convert currencies with CurrencyConverter library"
   ]
  },
  {
   "cell_type": "code",
   "execution_count": 36,
   "metadata": {
    "collapsed": true
   },
   "outputs": [],
   "source": [
    "from currency_converter import CurrencyConverter\n",
    "c = CurrencyConverter()"
   ]
  },
  {
   "cell_type": "code",
   "execution_count": 37,
   "metadata": {},
   "outputs": [
    {
     "data": {
      "text/plain": [
       "124.64"
      ]
     },
     "execution_count": 37,
     "metadata": {},
     "output_type": "execute_result"
    }
   ],
   "source": [
    "c.convert(100, 'EUR', 'USD') #check if works"
   ]
  },
  {
   "cell_type": "code",
   "execution_count": 38,
   "metadata": {},
   "outputs": [
    {
     "data": {
      "text/plain": [
       "137.79999999999998"
      ]
     },
     "execution_count": 38,
     "metadata": {},
     "output_type": "execute_result"
    }
   ],
   "source": [
    "from datetime import date # datetime works too\n",
    "c.convert(100, 'EUR', 'USD', date=date(2014, 3, 21))"
   ]
  },
  {
   "cell_type": "code",
   "execution_count": 39,
   "metadata": {
    "collapsed": true
   },
   "outputs": [],
   "source": [
    "# define function to convert lists\n",
    "def convert_list(y):\n",
    "    con = []\n",
    "    \n",
    "    for i in y:\n",
    "        x = c.convert(i, 'EUR', 'USD')\n",
    "        con.append(x)\n",
    "    return con\n",
    "    "
   ]
  },
  {
   "cell_type": "code",
   "execution_count": 40,
   "metadata": {},
   "outputs": [
    {
     "data": {
      "text/plain": [
       "[124.64, 62.32, 1.2464]"
      ]
     },
     "execution_count": 40,
     "metadata": {},
     "output_type": "execute_result"
    }
   ],
   "source": [
    "convert_list([100, 50, 1])"
   ]
  },
  {
   "cell_type": "code",
   "execution_count": 41,
   "metadata": {
    "collapsed": true
   },
   "outputs": [],
   "source": [
    "# filter EUR data and convert to list\n",
    "data_eur = data[data.currency == 'EUR']\n",
    "goal_eur_list = data_eur.goal.tolist()"
   ]
  },
  {
   "cell_type": "code",
   "execution_count": 42,
   "metadata": {},
   "outputs": [],
   "source": [
    "#convert_list(goal_eur_list)"
   ]
  },
  {
   "cell_type": "code",
   "execution_count": 43,
   "metadata": {},
   "outputs": [],
   "source": [
    "#check with different currencies\n",
    "array_currencies = data.currency.unique()\n",
    "list_currencies = array_currencies.tolist()\n"
   ]
  },
  {
   "cell_type": "code",
   "execution_count": 44,
   "metadata": {},
   "outputs": [],
   "source": [
    "sup_currencies = c.currencies"
   ]
  },
  {
   "cell_type": "code",
   "execution_count": 45,
   "metadata": {},
   "outputs": [
    {
     "name": "stdout",
     "output_type": "stream",
     "text": [
      "GBP supported\n",
      "USD supported\n",
      "CAD supported\n",
      "AUD supported\n",
      "NOK supported\n",
      "EUR supported\n",
      "MXN supported\n",
      "SEK supported\n",
      "NZD supported\n",
      "CHF supported\n",
      "DKK supported\n",
      "HKD supported\n",
      "SGD supported\n",
      "JPY supported\n"
     ]
    }
   ],
   "source": [
    "for c in list_currencies:\n",
    "    if c in sup_currencies:\n",
    "        print( c + ' supported')\n",
    "    else:\n",
    "        print('Ups ' + c + ' not supported' )\n",
    "        "
   ]
  },
  {
   "cell_type": "code",
   "execution_count": 51,
   "metadata": {},
   "outputs": [
    {
     "data": {
      "text/plain": [
       "Index(['ID', 'name', 'category', 'main_category', 'currency', 'deadline',\n",
       "       'goal', 'launched', 'pledged', 'state', 'backers', 'country',\n",
       "       'usd pledged', 'usd_pledged_real', 'usd_goal_real'],\n",
       "      dtype='object')"
      ]
     },
     "execution_count": 51,
     "metadata": {},
     "output_type": "execute_result"
    }
   ],
   "source": [
    "data.columns"
   ]
  },
  {
   "cell_type": "code",
   "execution_count": 56,
   "metadata": {},
   "outputs": [
    {
     "data": {
      "text/html": [
       "<div>\n",
       "<style>\n",
       "    .dataframe thead tr:only-child th {\n",
       "        text-align: right;\n",
       "    }\n",
       "\n",
       "    .dataframe thead th {\n",
       "        text-align: left;\n",
       "    }\n",
       "\n",
       "    .dataframe tbody tr th {\n",
       "        vertical-align: top;\n",
       "    }\n",
       "</style>\n",
       "<table border=\"1\" class=\"dataframe\">\n",
       "  <thead>\n",
       "    <tr style=\"text-align: right;\">\n",
       "      <th></th>\n",
       "      <th>currency</th>\n",
       "      <th>launched</th>\n",
       "      <th>deadline</th>\n",
       "      <th>goal</th>\n",
       "    </tr>\n",
       "  </thead>\n",
       "  <tbody>\n",
       "    <tr>\n",
       "      <th>0</th>\n",
       "      <td>GBP</td>\n",
       "      <td>2015-08-11 12:12:28</td>\n",
       "      <td>2015-10-09</td>\n",
       "      <td>1000.0</td>\n",
       "    </tr>\n",
       "    <tr>\n",
       "      <th>1</th>\n",
       "      <td>USD</td>\n",
       "      <td>2017-09-02 04:43:57</td>\n",
       "      <td>2017-11-01</td>\n",
       "      <td>30000.0</td>\n",
       "    </tr>\n",
       "    <tr>\n",
       "      <th>2</th>\n",
       "      <td>USD</td>\n",
       "      <td>2013-01-12 00:20:50</td>\n",
       "      <td>2013-02-26</td>\n",
       "      <td>45000.0</td>\n",
       "    </tr>\n",
       "    <tr>\n",
       "      <th>3</th>\n",
       "      <td>USD</td>\n",
       "      <td>2012-03-17 03:24:11</td>\n",
       "      <td>2012-04-16</td>\n",
       "      <td>5000.0</td>\n",
       "    </tr>\n",
       "    <tr>\n",
       "      <th>4</th>\n",
       "      <td>USD</td>\n",
       "      <td>2015-07-04 08:35:03</td>\n",
       "      <td>2015-08-29</td>\n",
       "      <td>19500.0</td>\n",
       "    </tr>\n",
       "    <tr>\n",
       "      <th>...</th>\n",
       "      <td>...</td>\n",
       "      <td>...</td>\n",
       "      <td>...</td>\n",
       "      <td>...</td>\n",
       "    </tr>\n",
       "    <tr>\n",
       "      <th>378656</th>\n",
       "      <td>USD</td>\n",
       "      <td>2014-09-17 02:35:30</td>\n",
       "      <td>2014-10-17</td>\n",
       "      <td>50000.0</td>\n",
       "    </tr>\n",
       "    <tr>\n",
       "      <th>378657</th>\n",
       "      <td>USD</td>\n",
       "      <td>2011-06-22 03:35:14</td>\n",
       "      <td>2011-07-19</td>\n",
       "      <td>1500.0</td>\n",
       "    </tr>\n",
       "    <tr>\n",
       "      <th>378658</th>\n",
       "      <td>USD</td>\n",
       "      <td>2010-07-01 19:40:30</td>\n",
       "      <td>2010-08-16</td>\n",
       "      <td>15000.0</td>\n",
       "    </tr>\n",
       "    <tr>\n",
       "      <th>378659</th>\n",
       "      <td>USD</td>\n",
       "      <td>2016-01-13 18:13:53</td>\n",
       "      <td>2016-02-13</td>\n",
       "      <td>15000.0</td>\n",
       "    </tr>\n",
       "    <tr>\n",
       "      <th>378660</th>\n",
       "      <td>USD</td>\n",
       "      <td>2011-07-19 09:07:47</td>\n",
       "      <td>2011-08-16</td>\n",
       "      <td>2000.0</td>\n",
       "    </tr>\n",
       "  </tbody>\n",
       "</table>\n",
       "<p>374864 rows × 4 columns</p>\n",
       "</div>"
      ],
      "text/plain": [
       "       currency            launched   deadline     goal\n",
       "0           GBP 2015-08-11 12:12:28 2015-10-09   1000.0\n",
       "1           USD 2017-09-02 04:43:57 2017-11-01  30000.0\n",
       "2           USD 2013-01-12 00:20:50 2013-02-26  45000.0\n",
       "3           USD 2012-03-17 03:24:11 2012-04-16   5000.0\n",
       "4           USD 2015-07-04 08:35:03 2015-08-29  19500.0\n",
       "...         ...                 ...        ...      ...\n",
       "378656      USD 2014-09-17 02:35:30 2014-10-17  50000.0\n",
       "378657      USD 2011-06-22 03:35:14 2011-07-19   1500.0\n",
       "378658      USD 2010-07-01 19:40:30 2010-08-16  15000.0\n",
       "378659      USD 2016-01-13 18:13:53 2016-02-13  15000.0\n",
       "378660      USD 2011-07-19 09:07:47 2011-08-16   2000.0\n",
       "\n",
       "[374864 rows x 4 columns]"
      ]
     },
     "execution_count": 56,
     "metadata": {},
     "output_type": "execute_result"
    }
   ],
   "source": [
    "data[['currency','launched', 'deadline', 'goal']]"
   ]
  },
  {
   "cell_type": "code",
   "execution_count": null,
   "metadata": {
    "collapsed": true
   },
   "outputs": [],
   "source": []
  },
  {
   "cell_type": "code",
   "execution_count": 46,
   "metadata": {},
   "outputs": [],
   "source": [
    "def curr_converter(y):\n",
    "    con = []\n",
    "    \n",
    "    for i in y:\n",
    "        x = c.convert(i, 'EUR', 'USD')\n",
    "        con.append(x)\n",
    "    return con"
   ]
  },
  {
   "cell_type": "code",
   "execution_count": null,
   "metadata": {},
   "outputs": [],
   "source": []
  },
  {
   "cell_type": "code",
   "execution_count": null,
   "metadata": {},
   "outputs": [],
   "source": []
  },
  {
   "cell_type": "code",
   "execution_count": null,
   "metadata": {
    "collapsed": true
   },
   "outputs": [],
   "source": []
  }
 ],
 "metadata": {
  "kernelspec": {
   "display_name": "Python 3",
   "language": "python",
   "name": "python3"
  },
  "language_info": {
   "codemirror_mode": {
    "name": "ipython",
    "version": 3
   },
   "file_extension": ".py",
   "mimetype": "text/x-python",
   "name": "python",
   "nbconvert_exporter": "python",
   "pygments_lexer": "ipython3",
   "version": "3.6.3"
  }
 },
 "nbformat": 4,
 "nbformat_minor": 2
}
