{
 "cells": [
  {
   "cell_type": "code",
   "execution_count": 54,
   "metadata": {},
   "outputs": [],
   "source": [
    "import pandas as pd\n",
    "import numpy as np\n",
    "import datetime as dt\n",
    "\n",
    "# saved the final dataframe to a new csv file\n",
    "# changed some of the data types\n",
    "# the original file was huge so I created a sample of the original data file - 57K sample\n",
    "df = pd.read_csv('C:/Users/rm2019/PythonProjects/T1.csv',index_col=0)\n",
    "df.launched = pd.to_datetime(df.launched)\n",
    "df.deadline = pd.to_datetime(df.deadline)\n",
    "df.rtdate = pd.to_datetime(df.rtdate)"
   ]
  },
  {
   "cell_type": "code",
   "execution_count": 55,
   "metadata": {},
   "outputs": [],
   "source": [
    "from sklearn.model_selection import train_test_split\n",
    "\n",
    "# split the data set into train and test\n",
    "data = df[['backers','date_diff','goal_usd','name_length']]\n",
    "y = df.pop('fs_binary')\n",
    "\n",
    "x_train, x_test, y_train, y_test = train_test_split(data, y,test_size = 0.3)"
   ]
  },
  {
   "cell_type": "code",
   "execution_count": 56,
   "metadata": {},
   "outputs": [],
   "source": [
    "# data set to test that the kNN is working\n",
    "#d = {'a':[1,2,3],'b':[4,5,6],'c':[7,8,9],'d':[10,11,12],'e':[1,0,0]}\n",
    "#e = {'a':[1],'b':[6],'c':[9],'d':[11]}\n",
    "#dfd = pd.DataFrame(data=d)\n",
    "#dfe = pd.DataFrame(data=e)\n",
    "#lbl = dfd.pop('e')\n",
    "#lbl_t = pd.DataFrame(lbl)\n",
    "#df_test = pd.DataFrame(dfd[['a','b','c','d']].iloc[0]).T\n",
    "#lbl_t = pd.DataFrame(lbl_t.iloc[0]).T"
   ]
  },
  {
   "cell_type": "code",
   "execution_count": 57,
   "metadata": {},
   "outputs": [
    {
     "data": {
      "text/plain": [
       "ID\n",
       "1728443891    0\n",
       "243488233     1\n",
       "886891442     0\n",
       "2116621128    1\n",
       "1385753664    1\n",
       "Name: fs_binary, dtype: int64"
      ]
     },
     "execution_count": 57,
     "metadata": {},
     "output_type": "execute_result"
    }
   ],
   "source": [
    "y_test.head()"
   ]
  },
  {
   "cell_type": "code",
   "execution_count": 58,
   "metadata": {},
   "outputs": [],
   "source": [
    "# the distance formula defined\n",
    "def distance(df1,df2,labels,k):\n",
    "    dist_diff = np.sqrt(np.sum(np.square(df1-df2),axis=1))\n",
    "    dist_diff.name = 'total_dist'\n",
    "    diff = pd.concat([dist_diff, labels], axis=1)\n",
    "    diff.sort_values(by='total_dist', axis=0, ascending=True, inplace=True)\n",
    "    top_knn = diff[:k]\n",
    "    return top_knn['fs_binary'].value_counts().index.values[0]"
   ]
  },
  {
   "cell_type": "code",
   "execution_count": 59,
   "metadata": {},
   "outputs": [],
   "source": [
    "# apply the weighted sorted list to the test data\n",
    "def main():    \n",
    "    k = 7    \n",
    "    result_df = x_test.apply(lambda row: distance(row,x_train,y_train,k), axis=1)    \n",
    "    return result_df\n",
    "#call to main for the testing\n",
    "#def main():    \n",
    "#    k = 2    \n",
    "#    result_df = dfe.apply(lambda row: distance(row,dfd,lbl,k), axis=1)    \n",
    "#    return result_df"
   ]
  },
  {
   "cell_type": "code",
   "execution_count": 60,
   "metadata": {
    "scrolled": true
   },
   "outputs": [],
   "source": [
    "# assign the output to a dataframe\n",
    "result = main()"
   ]
  },
  {
   "cell_type": "code",
   "execution_count": 72,
   "metadata": {},
   "outputs": [],
   "source": [
    "# put the two dataframes together\n",
    "comb = pd.concat([y_test, result], axis=1)"
   ]
  },
  {
   "cell_type": "code",
   "execution_count": 74,
   "metadata": {},
   "outputs": [],
   "source": [
    "#rename the columns to original and caluculated\n",
    "comb.columns = ['original','calculated']"
   ]
  },
  {
   "cell_type": "code",
   "execution_count": 96,
   "metadata": {},
   "outputs": [
    {
     "data": {
      "text/plain": [
       "original      0.90977\n",
       "calculated    0.90977\n",
       "dtype: float64"
      ]
     },
     "execution_count": 96,
     "metadata": {},
     "output_type": "execute_result"
    }
   ],
   "source": [
    "# filter the data and take only those rows where original and calculated are the same\n",
    "same = comb[comb.original == comb.calculated]\n",
    "# calculate the percentage of those that are the same\n",
    "same.count() / comb.count()"
   ]
  }
 ],
 "metadata": {
  "kernelspec": {
   "display_name": "Python 3",
   "language": "python",
   "name": "python3"
  },
  "language_info": {
   "codemirror_mode": {
    "name": "ipython",
    "version": 3
   },
   "file_extension": ".py",
   "mimetype": "text/x-python",
   "name": "python",
   "nbconvert_exporter": "python",
   "pygments_lexer": "ipython3",
   "version": "3.6.4"
  }
 },
 "nbformat": 4,
 "nbformat_minor": 2
}
